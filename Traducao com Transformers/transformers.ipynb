{
  "nbformat": 4,
  "nbformat_minor": 0,
  "metadata": {
    "colab": {
      "name": "transformers.ipynb",
      "provenance": [],
      "collapsed_sections": []
    },
    "kernelspec": {
      "name": "python3",
      "display_name": "Python 3"
    },
    "language_info": {
      "name": "python"
    },
    "accelerator": "GPU",
    "widgets": {
      "application/vnd.jupyter.widget-state+json": {
        "a7fb3a23e989416b9fb549d2b9cc14d5": {
          "model_module": "@jupyter-widgets/controls",
          "model_name": "HBoxModel",
          "state": {
            "_view_name": "HBoxView",
            "_dom_classes": [],
            "_model_name": "HBoxModel",
            "_view_module": "@jupyter-widgets/controls",
            "_model_module_version": "1.5.0",
            "_view_count": null,
            "_view_module_version": "1.5.0",
            "box_style": "",
            "layout": "IPY_MODEL_9a934f44a36346bd80016f7d16d31475",
            "_model_module": "@jupyter-widgets/controls",
            "children": [
              "IPY_MODEL_69268e1acd4b49819cab533cfa6e6e47",
              "IPY_MODEL_1a462215b6e44258a3b7aff599a8f51c"
            ]
          }
        },
        "9a934f44a36346bd80016f7d16d31475": {
          "model_module": "@jupyter-widgets/base",
          "model_name": "LayoutModel",
          "state": {
            "_view_name": "LayoutView",
            "grid_template_rows": null,
            "right": null,
            "justify_content": null,
            "_view_module": "@jupyter-widgets/base",
            "overflow": null,
            "_model_module_version": "1.2.0",
            "_view_count": null,
            "flex_flow": null,
            "width": null,
            "min_width": null,
            "border": null,
            "align_items": null,
            "bottom": null,
            "_model_module": "@jupyter-widgets/base",
            "top": null,
            "grid_column": null,
            "overflow_y": null,
            "overflow_x": null,
            "grid_auto_flow": null,
            "grid_area": null,
            "grid_template_columns": null,
            "flex": null,
            "_model_name": "LayoutModel",
            "justify_items": null,
            "grid_row": null,
            "max_height": null,
            "align_content": null,
            "visibility": null,
            "align_self": null,
            "height": null,
            "min_height": null,
            "padding": null,
            "grid_auto_rows": null,
            "grid_gap": null,
            "max_width": null,
            "order": null,
            "_view_module_version": "1.2.0",
            "grid_template_areas": null,
            "object_position": null,
            "object_fit": null,
            "grid_auto_columns": null,
            "margin": null,
            "display": null,
            "left": null
          }
        },
        "69268e1acd4b49819cab533cfa6e6e47": {
          "model_module": "@jupyter-widgets/controls",
          "model_name": "FloatProgressModel",
          "state": {
            "_view_name": "ProgressView",
            "style": "IPY_MODEL_347cd6d66f6048f9bcdccb7dc4a274f2",
            "_dom_classes": [],
            "description": "Dl Completed...: 100%",
            "_model_name": "FloatProgressModel",
            "bar_style": "success",
            "max": 1,
            "_view_module": "@jupyter-widgets/controls",
            "_model_module_version": "1.5.0",
            "value": 1,
            "_view_count": null,
            "_view_module_version": "1.5.0",
            "orientation": "horizontal",
            "min": 0,
            "description_tooltip": null,
            "_model_module": "@jupyter-widgets/controls",
            "layout": "IPY_MODEL_444c8655c602427b84dcd264129ec80b"
          }
        },
        "1a462215b6e44258a3b7aff599a8f51c": {
          "model_module": "@jupyter-widgets/controls",
          "model_name": "HTMLModel",
          "state": {
            "_view_name": "HTMLView",
            "style": "IPY_MODEL_af0deb3f42ed41dbacdc9d0e9d18cf31",
            "_dom_classes": [],
            "description": "",
            "_model_name": "HTMLModel",
            "placeholder": "​",
            "_view_module": "@jupyter-widgets/controls",
            "_model_module_version": "1.5.0",
            "value": " 1/1 [00:06&lt;00:00,  6.34s/ url]",
            "_view_count": null,
            "_view_module_version": "1.5.0",
            "description_tooltip": null,
            "_model_module": "@jupyter-widgets/controls",
            "layout": "IPY_MODEL_43d8687a05194fc2bf859e13006cede4"
          }
        },
        "347cd6d66f6048f9bcdccb7dc4a274f2": {
          "model_module": "@jupyter-widgets/controls",
          "model_name": "ProgressStyleModel",
          "state": {
            "_view_name": "StyleView",
            "_model_name": "ProgressStyleModel",
            "description_width": "initial",
            "_view_module": "@jupyter-widgets/base",
            "_model_module_version": "1.5.0",
            "_view_count": null,
            "_view_module_version": "1.2.0",
            "bar_color": null,
            "_model_module": "@jupyter-widgets/controls"
          }
        },
        "444c8655c602427b84dcd264129ec80b": {
          "model_module": "@jupyter-widgets/base",
          "model_name": "LayoutModel",
          "state": {
            "_view_name": "LayoutView",
            "grid_template_rows": null,
            "right": null,
            "justify_content": null,
            "_view_module": "@jupyter-widgets/base",
            "overflow": null,
            "_model_module_version": "1.2.0",
            "_view_count": null,
            "flex_flow": null,
            "width": null,
            "min_width": null,
            "border": null,
            "align_items": null,
            "bottom": null,
            "_model_module": "@jupyter-widgets/base",
            "top": null,
            "grid_column": null,
            "overflow_y": null,
            "overflow_x": null,
            "grid_auto_flow": null,
            "grid_area": null,
            "grid_template_columns": null,
            "flex": null,
            "_model_name": "LayoutModel",
            "justify_items": null,
            "grid_row": null,
            "max_height": null,
            "align_content": null,
            "visibility": null,
            "align_self": null,
            "height": null,
            "min_height": null,
            "padding": null,
            "grid_auto_rows": null,
            "grid_gap": null,
            "max_width": null,
            "order": null,
            "_view_module_version": "1.2.0",
            "grid_template_areas": null,
            "object_position": null,
            "object_fit": null,
            "grid_auto_columns": null,
            "margin": null,
            "display": null,
            "left": null
          }
        },
        "af0deb3f42ed41dbacdc9d0e9d18cf31": {
          "model_module": "@jupyter-widgets/controls",
          "model_name": "DescriptionStyleModel",
          "state": {
            "_view_name": "StyleView",
            "_model_name": "DescriptionStyleModel",
            "description_width": "",
            "_view_module": "@jupyter-widgets/base",
            "_model_module_version": "1.5.0",
            "_view_count": null,
            "_view_module_version": "1.2.0",
            "_model_module": "@jupyter-widgets/controls"
          }
        },
        "43d8687a05194fc2bf859e13006cede4": {
          "model_module": "@jupyter-widgets/base",
          "model_name": "LayoutModel",
          "state": {
            "_view_name": "LayoutView",
            "grid_template_rows": null,
            "right": null,
            "justify_content": null,
            "_view_module": "@jupyter-widgets/base",
            "overflow": null,
            "_model_module_version": "1.2.0",
            "_view_count": null,
            "flex_flow": null,
            "width": null,
            "min_width": null,
            "border": null,
            "align_items": null,
            "bottom": null,
            "_model_module": "@jupyter-widgets/base",
            "top": null,
            "grid_column": null,
            "overflow_y": null,
            "overflow_x": null,
            "grid_auto_flow": null,
            "grid_area": null,
            "grid_template_columns": null,
            "flex": null,
            "_model_name": "LayoutModel",
            "justify_items": null,
            "grid_row": null,
            "max_height": null,
            "align_content": null,
            "visibility": null,
            "align_self": null,
            "height": null,
            "min_height": null,
            "padding": null,
            "grid_auto_rows": null,
            "grid_gap": null,
            "max_width": null,
            "order": null,
            "_view_module_version": "1.2.0",
            "grid_template_areas": null,
            "object_position": null,
            "object_fit": null,
            "grid_auto_columns": null,
            "margin": null,
            "display": null,
            "left": null
          }
        },
        "1c824a74cdd946f5a0f7e6a9701a2e62": {
          "model_module": "@jupyter-widgets/controls",
          "model_name": "HBoxModel",
          "state": {
            "_view_name": "HBoxView",
            "_dom_classes": [],
            "_model_name": "HBoxModel",
            "_view_module": "@jupyter-widgets/controls",
            "_model_module_version": "1.5.0",
            "_view_count": null,
            "_view_module_version": "1.5.0",
            "box_style": "",
            "layout": "IPY_MODEL_7e36027fa1b94c739708d47a853b8d75",
            "_model_module": "@jupyter-widgets/controls",
            "children": [
              "IPY_MODEL_d04017f339f8409c87ffc6ae50744dc3",
              "IPY_MODEL_bda145c239394f4a8e326ca79636c08c"
            ]
          }
        },
        "7e36027fa1b94c739708d47a853b8d75": {
          "model_module": "@jupyter-widgets/base",
          "model_name": "LayoutModel",
          "state": {
            "_view_name": "LayoutView",
            "grid_template_rows": null,
            "right": null,
            "justify_content": null,
            "_view_module": "@jupyter-widgets/base",
            "overflow": null,
            "_model_module_version": "1.2.0",
            "_view_count": null,
            "flex_flow": null,
            "width": null,
            "min_width": null,
            "border": null,
            "align_items": null,
            "bottom": null,
            "_model_module": "@jupyter-widgets/base",
            "top": null,
            "grid_column": null,
            "overflow_y": null,
            "overflow_x": null,
            "grid_auto_flow": null,
            "grid_area": null,
            "grid_template_columns": null,
            "flex": null,
            "_model_name": "LayoutModel",
            "justify_items": null,
            "grid_row": null,
            "max_height": null,
            "align_content": null,
            "visibility": null,
            "align_self": null,
            "height": null,
            "min_height": null,
            "padding": null,
            "grid_auto_rows": null,
            "grid_gap": null,
            "max_width": null,
            "order": null,
            "_view_module_version": "1.2.0",
            "grid_template_areas": null,
            "object_position": null,
            "object_fit": null,
            "grid_auto_columns": null,
            "margin": null,
            "display": null,
            "left": null
          }
        },
        "d04017f339f8409c87ffc6ae50744dc3": {
          "model_module": "@jupyter-widgets/controls",
          "model_name": "FloatProgressModel",
          "state": {
            "_view_name": "ProgressView",
            "style": "IPY_MODEL_cb7f4471ed2b49708e94f4e10a617add",
            "_dom_classes": [],
            "description": "Dl Size...: 100%",
            "_model_name": "FloatProgressModel",
            "bar_style": "success",
            "max": 1,
            "_view_module": "@jupyter-widgets/controls",
            "_model_module_version": "1.5.0",
            "value": 1,
            "_view_count": null,
            "_view_module_version": "1.5.0",
            "orientation": "horizontal",
            "min": 0,
            "description_tooltip": null,
            "_model_module": "@jupyter-widgets/controls",
            "layout": "IPY_MODEL_b5d4e0de4a63404fa6b34e9ef6d09ff1"
          }
        },
        "bda145c239394f4a8e326ca79636c08c": {
          "model_module": "@jupyter-widgets/controls",
          "model_name": "HTMLModel",
          "state": {
            "_view_name": "HTMLView",
            "style": "IPY_MODEL_670f51b6386d445c85a3a7bff8d4a42f",
            "_dom_classes": [],
            "description": "",
            "_model_name": "HTMLModel",
            "placeholder": "​",
            "_view_module": "@jupyter-widgets/controls",
            "_model_module_version": "1.5.0",
            "value": " 124/124 [00:06&lt;00:00, 19.69 MiB/s]",
            "_view_count": null,
            "_view_module_version": "1.5.0",
            "description_tooltip": null,
            "_model_module": "@jupyter-widgets/controls",
            "layout": "IPY_MODEL_bd85bbe8ce344c6bb5eb6a6eb20034da"
          }
        },
        "cb7f4471ed2b49708e94f4e10a617add": {
          "model_module": "@jupyter-widgets/controls",
          "model_name": "ProgressStyleModel",
          "state": {
            "_view_name": "StyleView",
            "_model_name": "ProgressStyleModel",
            "description_width": "initial",
            "_view_module": "@jupyter-widgets/base",
            "_model_module_version": "1.5.0",
            "_view_count": null,
            "_view_module_version": "1.2.0",
            "bar_color": null,
            "_model_module": "@jupyter-widgets/controls"
          }
        },
        "b5d4e0de4a63404fa6b34e9ef6d09ff1": {
          "model_module": "@jupyter-widgets/base",
          "model_name": "LayoutModel",
          "state": {
            "_view_name": "LayoutView",
            "grid_template_rows": null,
            "right": null,
            "justify_content": null,
            "_view_module": "@jupyter-widgets/base",
            "overflow": null,
            "_model_module_version": "1.2.0",
            "_view_count": null,
            "flex_flow": null,
            "width": null,
            "min_width": null,
            "border": null,
            "align_items": null,
            "bottom": null,
            "_model_module": "@jupyter-widgets/base",
            "top": null,
            "grid_column": null,
            "overflow_y": null,
            "overflow_x": null,
            "grid_auto_flow": null,
            "grid_area": null,
            "grid_template_columns": null,
            "flex": null,
            "_model_name": "LayoutModel",
            "justify_items": null,
            "grid_row": null,
            "max_height": null,
            "align_content": null,
            "visibility": null,
            "align_self": null,
            "height": null,
            "min_height": null,
            "padding": null,
            "grid_auto_rows": null,
            "grid_gap": null,
            "max_width": null,
            "order": null,
            "_view_module_version": "1.2.0",
            "grid_template_areas": null,
            "object_position": null,
            "object_fit": null,
            "grid_auto_columns": null,
            "margin": null,
            "display": null,
            "left": null
          }
        },
        "670f51b6386d445c85a3a7bff8d4a42f": {
          "model_module": "@jupyter-widgets/controls",
          "model_name": "DescriptionStyleModel",
          "state": {
            "_view_name": "StyleView",
            "_model_name": "DescriptionStyleModel",
            "description_width": "",
            "_view_module": "@jupyter-widgets/base",
            "_model_module_version": "1.5.0",
            "_view_count": null,
            "_view_module_version": "1.2.0",
            "_model_module": "@jupyter-widgets/controls"
          }
        },
        "bd85bbe8ce344c6bb5eb6a6eb20034da": {
          "model_module": "@jupyter-widgets/base",
          "model_name": "LayoutModel",
          "state": {
            "_view_name": "LayoutView",
            "grid_template_rows": null,
            "right": null,
            "justify_content": null,
            "_view_module": "@jupyter-widgets/base",
            "overflow": null,
            "_model_module_version": "1.2.0",
            "_view_count": null,
            "flex_flow": null,
            "width": null,
            "min_width": null,
            "border": null,
            "align_items": null,
            "bottom": null,
            "_model_module": "@jupyter-widgets/base",
            "top": null,
            "grid_column": null,
            "overflow_y": null,
            "overflow_x": null,
            "grid_auto_flow": null,
            "grid_area": null,
            "grid_template_columns": null,
            "flex": null,
            "_model_name": "LayoutModel",
            "justify_items": null,
            "grid_row": null,
            "max_height": null,
            "align_content": null,
            "visibility": null,
            "align_self": null,
            "height": null,
            "min_height": null,
            "padding": null,
            "grid_auto_rows": null,
            "grid_gap": null,
            "max_width": null,
            "order": null,
            "_view_module_version": "1.2.0",
            "grid_template_areas": null,
            "object_position": null,
            "object_fit": null,
            "grid_auto_columns": null,
            "margin": null,
            "display": null,
            "left": null
          }
        },
        "b46d910536d44867b0a492449cb84e58": {
          "model_module": "@jupyter-widgets/controls",
          "model_name": "HBoxModel",
          "state": {
            "_view_name": "HBoxView",
            "_dom_classes": [],
            "_model_name": "HBoxModel",
            "_view_module": "@jupyter-widgets/controls",
            "_model_module_version": "1.5.0",
            "_view_count": null,
            "_view_module_version": "1.5.0",
            "box_style": "",
            "layout": "IPY_MODEL_08fff85dd86f44088160b36528f63bdf",
            "_model_module": "@jupyter-widgets/controls",
            "children": [
              "IPY_MODEL_646876aa94844567a8411af13802a7fc",
              "IPY_MODEL_d4f327f9221c4ed7b7292e7a56f81248"
            ]
          }
        },
        "08fff85dd86f44088160b36528f63bdf": {
          "model_module": "@jupyter-widgets/base",
          "model_name": "LayoutModel",
          "state": {
            "_view_name": "LayoutView",
            "grid_template_rows": null,
            "right": null,
            "justify_content": null,
            "_view_module": "@jupyter-widgets/base",
            "overflow": null,
            "_model_module_version": "1.2.0",
            "_view_count": null,
            "flex_flow": null,
            "width": null,
            "min_width": null,
            "border": null,
            "align_items": null,
            "bottom": null,
            "_model_module": "@jupyter-widgets/base",
            "top": null,
            "grid_column": null,
            "overflow_y": null,
            "overflow_x": null,
            "grid_auto_flow": null,
            "grid_area": null,
            "grid_template_columns": null,
            "flex": null,
            "_model_name": "LayoutModel",
            "justify_items": null,
            "grid_row": null,
            "max_height": null,
            "align_content": null,
            "visibility": null,
            "align_self": null,
            "height": null,
            "min_height": null,
            "padding": null,
            "grid_auto_rows": null,
            "grid_gap": null,
            "max_width": null,
            "order": null,
            "_view_module_version": "1.2.0",
            "grid_template_areas": null,
            "object_position": null,
            "object_fit": null,
            "grid_auto_columns": null,
            "margin": null,
            "display": null,
            "left": null
          }
        },
        "646876aa94844567a8411af13802a7fc": {
          "model_module": "@jupyter-widgets/controls",
          "model_name": "FloatProgressModel",
          "state": {
            "_view_name": "ProgressView",
            "style": "IPY_MODEL_dd28818e181c4767a55e91189912275c",
            "_dom_classes": [],
            "description": "Extraction completed...: 100%",
            "_model_name": "FloatProgressModel",
            "bar_style": "success",
            "max": 1,
            "_view_module": "@jupyter-widgets/controls",
            "_model_module_version": "1.5.0",
            "value": 1,
            "_view_count": null,
            "_view_module_version": "1.5.0",
            "orientation": "horizontal",
            "min": 0,
            "description_tooltip": null,
            "_model_module": "@jupyter-widgets/controls",
            "layout": "IPY_MODEL_a4414dd08c384d6fbb78bc5d9db8883c"
          }
        },
        "d4f327f9221c4ed7b7292e7a56f81248": {
          "model_module": "@jupyter-widgets/controls",
          "model_name": "HTMLModel",
          "state": {
            "_view_name": "HTMLView",
            "style": "IPY_MODEL_24e19b7367b44c4b839722e2351e8a62",
            "_dom_classes": [],
            "description": "",
            "_model_name": "HTMLModel",
            "placeholder": "​",
            "_view_module": "@jupyter-widgets/controls",
            "_model_module_version": "1.5.0",
            "value": " 1/1 [00:06&lt;00:00,  6.25s/ file]",
            "_view_count": null,
            "_view_module_version": "1.5.0",
            "description_tooltip": null,
            "_model_module": "@jupyter-widgets/controls",
            "layout": "IPY_MODEL_045f496e57414f239753aaf65df86fc8"
          }
        },
        "dd28818e181c4767a55e91189912275c": {
          "model_module": "@jupyter-widgets/controls",
          "model_name": "ProgressStyleModel",
          "state": {
            "_view_name": "StyleView",
            "_model_name": "ProgressStyleModel",
            "description_width": "initial",
            "_view_module": "@jupyter-widgets/base",
            "_model_module_version": "1.5.0",
            "_view_count": null,
            "_view_module_version": "1.2.0",
            "bar_color": null,
            "_model_module": "@jupyter-widgets/controls"
          }
        },
        "a4414dd08c384d6fbb78bc5d9db8883c": {
          "model_module": "@jupyter-widgets/base",
          "model_name": "LayoutModel",
          "state": {
            "_view_name": "LayoutView",
            "grid_template_rows": null,
            "right": null,
            "justify_content": null,
            "_view_module": "@jupyter-widgets/base",
            "overflow": null,
            "_model_module_version": "1.2.0",
            "_view_count": null,
            "flex_flow": null,
            "width": null,
            "min_width": null,
            "border": null,
            "align_items": null,
            "bottom": null,
            "_model_module": "@jupyter-widgets/base",
            "top": null,
            "grid_column": null,
            "overflow_y": null,
            "overflow_x": null,
            "grid_auto_flow": null,
            "grid_area": null,
            "grid_template_columns": null,
            "flex": null,
            "_model_name": "LayoutModel",
            "justify_items": null,
            "grid_row": null,
            "max_height": null,
            "align_content": null,
            "visibility": null,
            "align_self": null,
            "height": null,
            "min_height": null,
            "padding": null,
            "grid_auto_rows": null,
            "grid_gap": null,
            "max_width": null,
            "order": null,
            "_view_module_version": "1.2.0",
            "grid_template_areas": null,
            "object_position": null,
            "object_fit": null,
            "grid_auto_columns": null,
            "margin": null,
            "display": null,
            "left": null
          }
        },
        "24e19b7367b44c4b839722e2351e8a62": {
          "model_module": "@jupyter-widgets/controls",
          "model_name": "DescriptionStyleModel",
          "state": {
            "_view_name": "StyleView",
            "_model_name": "DescriptionStyleModel",
            "description_width": "",
            "_view_module": "@jupyter-widgets/base",
            "_model_module_version": "1.5.0",
            "_view_count": null,
            "_view_module_version": "1.2.0",
            "_model_module": "@jupyter-widgets/controls"
          }
        },
        "045f496e57414f239753aaf65df86fc8": {
          "model_module": "@jupyter-widgets/base",
          "model_name": "LayoutModel",
          "state": {
            "_view_name": "LayoutView",
            "grid_template_rows": null,
            "right": null,
            "justify_content": null,
            "_view_module": "@jupyter-widgets/base",
            "overflow": null,
            "_model_module_version": "1.2.0",
            "_view_count": null,
            "flex_flow": null,
            "width": null,
            "min_width": null,
            "border": null,
            "align_items": null,
            "bottom": null,
            "_model_module": "@jupyter-widgets/base",
            "top": null,
            "grid_column": null,
            "overflow_y": null,
            "overflow_x": null,
            "grid_auto_flow": null,
            "grid_area": null,
            "grid_template_columns": null,
            "flex": null,
            "_model_name": "LayoutModel",
            "justify_items": null,
            "grid_row": null,
            "max_height": null,
            "align_content": null,
            "visibility": null,
            "align_self": null,
            "height": null,
            "min_height": null,
            "padding": null,
            "grid_auto_rows": null,
            "grid_gap": null,
            "max_width": null,
            "order": null,
            "_view_module_version": "1.2.0",
            "grid_template_areas": null,
            "object_position": null,
            "object_fit": null,
            "grid_auto_columns": null,
            "margin": null,
            "display": null,
            "left": null
          }
        },
        "d225e74687644825ba5e60f02e204b4b": {
          "model_module": "@jupyter-widgets/controls",
          "model_name": "HBoxModel",
          "state": {
            "_view_name": "HBoxView",
            "_dom_classes": [],
            "_model_name": "HBoxModel",
            "_view_module": "@jupyter-widgets/controls",
            "_model_module_version": "1.5.0",
            "_view_count": null,
            "_view_module_version": "1.5.0",
            "box_style": "",
            "layout": "IPY_MODEL_107aba0a18dd4629a908b456ab678b10",
            "_model_module": "@jupyter-widgets/controls",
            "children": [
              "IPY_MODEL_af4343276b65465ea6419749d0f383d3",
              "IPY_MODEL_9a920d99ebf1445e9f7ae900ca4c429c"
            ]
          }
        },
        "107aba0a18dd4629a908b456ab678b10": {
          "model_module": "@jupyter-widgets/base",
          "model_name": "LayoutModel",
          "state": {
            "_view_name": "LayoutView",
            "grid_template_rows": null,
            "right": null,
            "justify_content": null,
            "_view_module": "@jupyter-widgets/base",
            "overflow": null,
            "_model_module_version": "1.2.0",
            "_view_count": null,
            "flex_flow": null,
            "width": null,
            "min_width": null,
            "border": null,
            "align_items": null,
            "bottom": null,
            "_model_module": "@jupyter-widgets/base",
            "top": null,
            "grid_column": null,
            "overflow_y": null,
            "overflow_x": null,
            "grid_auto_flow": null,
            "grid_area": null,
            "grid_template_columns": null,
            "flex": null,
            "_model_name": "LayoutModel",
            "justify_items": null,
            "grid_row": null,
            "max_height": null,
            "align_content": null,
            "visibility": null,
            "align_self": null,
            "height": null,
            "min_height": null,
            "padding": null,
            "grid_auto_rows": null,
            "grid_gap": null,
            "max_width": null,
            "order": null,
            "_view_module_version": "1.2.0",
            "grid_template_areas": null,
            "object_position": null,
            "object_fit": null,
            "grid_auto_columns": null,
            "margin": null,
            "display": null,
            "left": null
          }
        },
        "af4343276b65465ea6419749d0f383d3": {
          "model_module": "@jupyter-widgets/controls",
          "model_name": "FloatProgressModel",
          "state": {
            "_view_name": "ProgressView",
            "style": "IPY_MODEL_296f23da51874f179178f6c9c519fefd",
            "_dom_classes": [],
            "description": "",
            "_model_name": "FloatProgressModel",
            "bar_style": "info",
            "max": 1,
            "_view_module": "@jupyter-widgets/controls",
            "_model_module_version": "1.5.0",
            "value": 1,
            "_view_count": null,
            "_view_module_version": "1.5.0",
            "orientation": "horizontal",
            "min": 0,
            "description_tooltip": null,
            "_model_module": "@jupyter-widgets/controls",
            "layout": "IPY_MODEL_ebe7cf4d4e2d49409dda0e3623a1b9b1"
          }
        },
        "9a920d99ebf1445e9f7ae900ca4c429c": {
          "model_module": "@jupyter-widgets/controls",
          "model_name": "HTMLModel",
          "state": {
            "_view_name": "HTMLView",
            "style": "IPY_MODEL_804e1da3e33040629aa428c89f39ee5b",
            "_dom_classes": [],
            "description": "",
            "_model_name": "HTMLModel",
            "placeholder": "​",
            "_view_module": "@jupyter-widgets/controls",
            "_model_module_version": "1.5.0",
            "value": " 51785/0 [00:07&lt;00:00, 7067.65 examples/s]",
            "_view_count": null,
            "_view_module_version": "1.5.0",
            "description_tooltip": null,
            "_model_module": "@jupyter-widgets/controls",
            "layout": "IPY_MODEL_ace84099d90d41538dafbd377c71a218"
          }
        },
        "296f23da51874f179178f6c9c519fefd": {
          "model_module": "@jupyter-widgets/controls",
          "model_name": "ProgressStyleModel",
          "state": {
            "_view_name": "StyleView",
            "_model_name": "ProgressStyleModel",
            "description_width": "initial",
            "_view_module": "@jupyter-widgets/base",
            "_model_module_version": "1.5.0",
            "_view_count": null,
            "_view_module_version": "1.2.0",
            "bar_color": null,
            "_model_module": "@jupyter-widgets/controls"
          }
        },
        "ebe7cf4d4e2d49409dda0e3623a1b9b1": {
          "model_module": "@jupyter-widgets/base",
          "model_name": "LayoutModel",
          "state": {
            "_view_name": "LayoutView",
            "grid_template_rows": null,
            "right": null,
            "justify_content": null,
            "_view_module": "@jupyter-widgets/base",
            "overflow": null,
            "_model_module_version": "1.2.0",
            "_view_count": null,
            "flex_flow": null,
            "width": null,
            "min_width": null,
            "border": null,
            "align_items": null,
            "bottom": null,
            "_model_module": "@jupyter-widgets/base",
            "top": null,
            "grid_column": null,
            "overflow_y": null,
            "overflow_x": null,
            "grid_auto_flow": null,
            "grid_area": null,
            "grid_template_columns": null,
            "flex": null,
            "_model_name": "LayoutModel",
            "justify_items": null,
            "grid_row": null,
            "max_height": null,
            "align_content": null,
            "visibility": null,
            "align_self": null,
            "height": null,
            "min_height": null,
            "padding": null,
            "grid_auto_rows": null,
            "grid_gap": null,
            "max_width": null,
            "order": null,
            "_view_module_version": "1.2.0",
            "grid_template_areas": null,
            "object_position": null,
            "object_fit": null,
            "grid_auto_columns": null,
            "margin": null,
            "display": null,
            "left": null
          }
        },
        "804e1da3e33040629aa428c89f39ee5b": {
          "model_module": "@jupyter-widgets/controls",
          "model_name": "DescriptionStyleModel",
          "state": {
            "_view_name": "StyleView",
            "_model_name": "DescriptionStyleModel",
            "description_width": "",
            "_view_module": "@jupyter-widgets/base",
            "_model_module_version": "1.5.0",
            "_view_count": null,
            "_view_module_version": "1.2.0",
            "_model_module": "@jupyter-widgets/controls"
          }
        },
        "ace84099d90d41538dafbd377c71a218": {
          "model_module": "@jupyter-widgets/base",
          "model_name": "LayoutModel",
          "state": {
            "_view_name": "LayoutView",
            "grid_template_rows": null,
            "right": null,
            "justify_content": null,
            "_view_module": "@jupyter-widgets/base",
            "overflow": null,
            "_model_module_version": "1.2.0",
            "_view_count": null,
            "flex_flow": null,
            "width": null,
            "min_width": null,
            "border": null,
            "align_items": null,
            "bottom": null,
            "_model_module": "@jupyter-widgets/base",
            "top": null,
            "grid_column": null,
            "overflow_y": null,
            "overflow_x": null,
            "grid_auto_flow": null,
            "grid_area": null,
            "grid_template_columns": null,
            "flex": null,
            "_model_name": "LayoutModel",
            "justify_items": null,
            "grid_row": null,
            "max_height": null,
            "align_content": null,
            "visibility": null,
            "align_self": null,
            "height": null,
            "min_height": null,
            "padding": null,
            "grid_auto_rows": null,
            "grid_gap": null,
            "max_width": null,
            "order": null,
            "_view_module_version": "1.2.0",
            "grid_template_areas": null,
            "object_position": null,
            "object_fit": null,
            "grid_auto_columns": null,
            "margin": null,
            "display": null,
            "left": null
          }
        },
        "b91e0be1293b4b899fa594314a79c115": {
          "model_module": "@jupyter-widgets/controls",
          "model_name": "HBoxModel",
          "state": {
            "_view_name": "HBoxView",
            "_dom_classes": [],
            "_model_name": "HBoxModel",
            "_view_module": "@jupyter-widgets/controls",
            "_model_module_version": "1.5.0",
            "_view_count": null,
            "_view_module_version": "1.5.0",
            "box_style": "",
            "layout": "IPY_MODEL_c45ca5e58696439e9660ae4784a1eac7",
            "_model_module": "@jupyter-widgets/controls",
            "children": [
              "IPY_MODEL_0dbb3d42c0e74402b1b7bc66813e22bc",
              "IPY_MODEL_fdd98e2d66e84c13a42a5206766917d8"
            ]
          }
        },
        "c45ca5e58696439e9660ae4784a1eac7": {
          "model_module": "@jupyter-widgets/base",
          "model_name": "LayoutModel",
          "state": {
            "_view_name": "LayoutView",
            "grid_template_rows": null,
            "right": null,
            "justify_content": null,
            "_view_module": "@jupyter-widgets/base",
            "overflow": null,
            "_model_module_version": "1.2.0",
            "_view_count": null,
            "flex_flow": null,
            "width": null,
            "min_width": null,
            "border": null,
            "align_items": null,
            "bottom": null,
            "_model_module": "@jupyter-widgets/base",
            "top": null,
            "grid_column": null,
            "overflow_y": null,
            "overflow_x": null,
            "grid_auto_flow": null,
            "grid_area": null,
            "grid_template_columns": null,
            "flex": null,
            "_model_name": "LayoutModel",
            "justify_items": null,
            "grid_row": null,
            "max_height": null,
            "align_content": null,
            "visibility": null,
            "align_self": null,
            "height": null,
            "min_height": null,
            "padding": null,
            "grid_auto_rows": null,
            "grid_gap": null,
            "max_width": null,
            "order": null,
            "_view_module_version": "1.2.0",
            "grid_template_areas": null,
            "object_position": null,
            "object_fit": null,
            "grid_auto_columns": null,
            "margin": null,
            "display": null,
            "left": null
          }
        },
        "0dbb3d42c0e74402b1b7bc66813e22bc": {
          "model_module": "@jupyter-widgets/controls",
          "model_name": "FloatProgressModel",
          "state": {
            "_view_name": "ProgressView",
            "style": "IPY_MODEL_20e01328a1694a55b46a41adce498d45",
            "_dom_classes": [],
            "description": " 17%",
            "_model_name": "FloatProgressModel",
            "bar_style": "danger",
            "max": 51785,
            "_view_module": "@jupyter-widgets/controls",
            "_model_module_version": "1.5.0",
            "value": 8651,
            "_view_count": null,
            "_view_module_version": "1.5.0",
            "orientation": "horizontal",
            "min": 0,
            "description_tooltip": null,
            "_model_module": "@jupyter-widgets/controls",
            "layout": "IPY_MODEL_a8c82c3910af4243abceea7d83f71e5f"
          }
        },
        "fdd98e2d66e84c13a42a5206766917d8": {
          "model_module": "@jupyter-widgets/controls",
          "model_name": "HTMLModel",
          "state": {
            "_view_name": "HTMLView",
            "style": "IPY_MODEL_6e9557142365433abc38a66a09a707c3",
            "_dom_classes": [],
            "description": "",
            "_model_name": "HTMLModel",
            "placeholder": "​",
            "_view_module": "@jupyter-widgets/controls",
            "_model_module_version": "1.5.0",
            "value": " 8651/51785 [00:00&lt;00:00, 86509.46 examples/s]",
            "_view_count": null,
            "_view_module_version": "1.5.0",
            "description_tooltip": null,
            "_model_module": "@jupyter-widgets/controls",
            "layout": "IPY_MODEL_3e13c71443514ed495c9322b28859933"
          }
        },
        "20e01328a1694a55b46a41adce498d45": {
          "model_module": "@jupyter-widgets/controls",
          "model_name": "ProgressStyleModel",
          "state": {
            "_view_name": "StyleView",
            "_model_name": "ProgressStyleModel",
            "description_width": "initial",
            "_view_module": "@jupyter-widgets/base",
            "_model_module_version": "1.5.0",
            "_view_count": null,
            "_view_module_version": "1.2.0",
            "bar_color": null,
            "_model_module": "@jupyter-widgets/controls"
          }
        },
        "a8c82c3910af4243abceea7d83f71e5f": {
          "model_module": "@jupyter-widgets/base",
          "model_name": "LayoutModel",
          "state": {
            "_view_name": "LayoutView",
            "grid_template_rows": null,
            "right": null,
            "justify_content": null,
            "_view_module": "@jupyter-widgets/base",
            "overflow": null,
            "_model_module_version": "1.2.0",
            "_view_count": null,
            "flex_flow": null,
            "width": null,
            "min_width": null,
            "border": null,
            "align_items": null,
            "bottom": null,
            "_model_module": "@jupyter-widgets/base",
            "top": null,
            "grid_column": null,
            "overflow_y": null,
            "overflow_x": null,
            "grid_auto_flow": null,
            "grid_area": null,
            "grid_template_columns": null,
            "flex": null,
            "_model_name": "LayoutModel",
            "justify_items": null,
            "grid_row": null,
            "max_height": null,
            "align_content": null,
            "visibility": null,
            "align_self": null,
            "height": null,
            "min_height": null,
            "padding": null,
            "grid_auto_rows": null,
            "grid_gap": null,
            "max_width": null,
            "order": null,
            "_view_module_version": "1.2.0",
            "grid_template_areas": null,
            "object_position": null,
            "object_fit": null,
            "grid_auto_columns": null,
            "margin": null,
            "display": null,
            "left": null
          }
        },
        "6e9557142365433abc38a66a09a707c3": {
          "model_module": "@jupyter-widgets/controls",
          "model_name": "DescriptionStyleModel",
          "state": {
            "_view_name": "StyleView",
            "_model_name": "DescriptionStyleModel",
            "description_width": "",
            "_view_module": "@jupyter-widgets/base",
            "_model_module_version": "1.5.0",
            "_view_count": null,
            "_view_module_version": "1.2.0",
            "_model_module": "@jupyter-widgets/controls"
          }
        },
        "3e13c71443514ed495c9322b28859933": {
          "model_module": "@jupyter-widgets/base",
          "model_name": "LayoutModel",
          "state": {
            "_view_name": "LayoutView",
            "grid_template_rows": null,
            "right": null,
            "justify_content": null,
            "_view_module": "@jupyter-widgets/base",
            "overflow": null,
            "_model_module_version": "1.2.0",
            "_view_count": null,
            "flex_flow": null,
            "width": null,
            "min_width": null,
            "border": null,
            "align_items": null,
            "bottom": null,
            "_model_module": "@jupyter-widgets/base",
            "top": null,
            "grid_column": null,
            "overflow_y": null,
            "overflow_x": null,
            "grid_auto_flow": null,
            "grid_area": null,
            "grid_template_columns": null,
            "flex": null,
            "_model_name": "LayoutModel",
            "justify_items": null,
            "grid_row": null,
            "max_height": null,
            "align_content": null,
            "visibility": null,
            "align_self": null,
            "height": null,
            "min_height": null,
            "padding": null,
            "grid_auto_rows": null,
            "grid_gap": null,
            "max_width": null,
            "order": null,
            "_view_module_version": "1.2.0",
            "grid_template_areas": null,
            "object_position": null,
            "object_fit": null,
            "grid_auto_columns": null,
            "margin": null,
            "display": null,
            "left": null
          }
        },
        "a69350e3d49c4566861780abfe1023ab": {
          "model_module": "@jupyter-widgets/controls",
          "model_name": "HBoxModel",
          "state": {
            "_view_name": "HBoxView",
            "_dom_classes": [],
            "_model_name": "HBoxModel",
            "_view_module": "@jupyter-widgets/controls",
            "_model_module_version": "1.5.0",
            "_view_count": null,
            "_view_module_version": "1.5.0",
            "box_style": "",
            "layout": "IPY_MODEL_d9ea8fdd8f7b4bd7b7f4a42cd834a076",
            "_model_module": "@jupyter-widgets/controls",
            "children": [
              "IPY_MODEL_b36e0537bb3e4916ac93427ebd1bda75",
              "IPY_MODEL_12192e330eec4da5b53bef1e23c3477b"
            ]
          }
        },
        "d9ea8fdd8f7b4bd7b7f4a42cd834a076": {
          "model_module": "@jupyter-widgets/base",
          "model_name": "LayoutModel",
          "state": {
            "_view_name": "LayoutView",
            "grid_template_rows": null,
            "right": null,
            "justify_content": null,
            "_view_module": "@jupyter-widgets/base",
            "overflow": null,
            "_model_module_version": "1.2.0",
            "_view_count": null,
            "flex_flow": null,
            "width": null,
            "min_width": null,
            "border": null,
            "align_items": null,
            "bottom": null,
            "_model_module": "@jupyter-widgets/base",
            "top": null,
            "grid_column": null,
            "overflow_y": null,
            "overflow_x": null,
            "grid_auto_flow": null,
            "grid_area": null,
            "grid_template_columns": null,
            "flex": null,
            "_model_name": "LayoutModel",
            "justify_items": null,
            "grid_row": null,
            "max_height": null,
            "align_content": null,
            "visibility": null,
            "align_self": null,
            "height": null,
            "min_height": null,
            "padding": null,
            "grid_auto_rows": null,
            "grid_gap": null,
            "max_width": null,
            "order": null,
            "_view_module_version": "1.2.0",
            "grid_template_areas": null,
            "object_position": null,
            "object_fit": null,
            "grid_auto_columns": null,
            "margin": null,
            "display": null,
            "left": null
          }
        },
        "b36e0537bb3e4916ac93427ebd1bda75": {
          "model_module": "@jupyter-widgets/controls",
          "model_name": "FloatProgressModel",
          "state": {
            "_view_name": "ProgressView",
            "style": "IPY_MODEL_4a7838b04797455c86d69fb334cc8da9",
            "_dom_classes": [],
            "description": "",
            "_model_name": "FloatProgressModel",
            "bar_style": "info",
            "max": 1,
            "_view_module": "@jupyter-widgets/controls",
            "_model_module_version": "1.5.0",
            "value": 1,
            "_view_count": null,
            "_view_module_version": "1.5.0",
            "orientation": "horizontal",
            "min": 0,
            "description_tooltip": null,
            "_model_module": "@jupyter-widgets/controls",
            "layout": "IPY_MODEL_469492b81c1645ea925031e7e324eb4e"
          }
        },
        "12192e330eec4da5b53bef1e23c3477b": {
          "model_module": "@jupyter-widgets/controls",
          "model_name": "HTMLModel",
          "state": {
            "_view_name": "HTMLView",
            "style": "IPY_MODEL_848d99eeb1b94fb4b48c797013f47000",
            "_dom_classes": [],
            "description": "",
            "_model_name": "HTMLModel",
            "placeholder": "​",
            "_view_module": "@jupyter-widgets/controls",
            "_model_module_version": "1.5.0",
            "value": " 1193/0 [00:00&lt;00:00, 3889.03 examples/s]",
            "_view_count": null,
            "_view_module_version": "1.5.0",
            "description_tooltip": null,
            "_model_module": "@jupyter-widgets/controls",
            "layout": "IPY_MODEL_a46410bded0e4a2e83a5f1bbb2107876"
          }
        },
        "4a7838b04797455c86d69fb334cc8da9": {
          "model_module": "@jupyter-widgets/controls",
          "model_name": "ProgressStyleModel",
          "state": {
            "_view_name": "StyleView",
            "_model_name": "ProgressStyleModel",
            "description_width": "initial",
            "_view_module": "@jupyter-widgets/base",
            "_model_module_version": "1.5.0",
            "_view_count": null,
            "_view_module_version": "1.2.0",
            "bar_color": null,
            "_model_module": "@jupyter-widgets/controls"
          }
        },
        "469492b81c1645ea925031e7e324eb4e": {
          "model_module": "@jupyter-widgets/base",
          "model_name": "LayoutModel",
          "state": {
            "_view_name": "LayoutView",
            "grid_template_rows": null,
            "right": null,
            "justify_content": null,
            "_view_module": "@jupyter-widgets/base",
            "overflow": null,
            "_model_module_version": "1.2.0",
            "_view_count": null,
            "flex_flow": null,
            "width": null,
            "min_width": null,
            "border": null,
            "align_items": null,
            "bottom": null,
            "_model_module": "@jupyter-widgets/base",
            "top": null,
            "grid_column": null,
            "overflow_y": null,
            "overflow_x": null,
            "grid_auto_flow": null,
            "grid_area": null,
            "grid_template_columns": null,
            "flex": null,
            "_model_name": "LayoutModel",
            "justify_items": null,
            "grid_row": null,
            "max_height": null,
            "align_content": null,
            "visibility": null,
            "align_self": null,
            "height": null,
            "min_height": null,
            "padding": null,
            "grid_auto_rows": null,
            "grid_gap": null,
            "max_width": null,
            "order": null,
            "_view_module_version": "1.2.0",
            "grid_template_areas": null,
            "object_position": null,
            "object_fit": null,
            "grid_auto_columns": null,
            "margin": null,
            "display": null,
            "left": null
          }
        },
        "848d99eeb1b94fb4b48c797013f47000": {
          "model_module": "@jupyter-widgets/controls",
          "model_name": "DescriptionStyleModel",
          "state": {
            "_view_name": "StyleView",
            "_model_name": "DescriptionStyleModel",
            "description_width": "",
            "_view_module": "@jupyter-widgets/base",
            "_model_module_version": "1.5.0",
            "_view_count": null,
            "_view_module_version": "1.2.0",
            "_model_module": "@jupyter-widgets/controls"
          }
        },
        "a46410bded0e4a2e83a5f1bbb2107876": {
          "model_module": "@jupyter-widgets/base",
          "model_name": "LayoutModel",
          "state": {
            "_view_name": "LayoutView",
            "grid_template_rows": null,
            "right": null,
            "justify_content": null,
            "_view_module": "@jupyter-widgets/base",
            "overflow": null,
            "_model_module_version": "1.2.0",
            "_view_count": null,
            "flex_flow": null,
            "width": null,
            "min_width": null,
            "border": null,
            "align_items": null,
            "bottom": null,
            "_model_module": "@jupyter-widgets/base",
            "top": null,
            "grid_column": null,
            "overflow_y": null,
            "overflow_x": null,
            "grid_auto_flow": null,
            "grid_area": null,
            "grid_template_columns": null,
            "flex": null,
            "_model_name": "LayoutModel",
            "justify_items": null,
            "grid_row": null,
            "max_height": null,
            "align_content": null,
            "visibility": null,
            "align_self": null,
            "height": null,
            "min_height": null,
            "padding": null,
            "grid_auto_rows": null,
            "grid_gap": null,
            "max_width": null,
            "order": null,
            "_view_module_version": "1.2.0",
            "grid_template_areas": null,
            "object_position": null,
            "object_fit": null,
            "grid_auto_columns": null,
            "margin": null,
            "display": null,
            "left": null
          }
        },
        "b6ab53065cac40c0a1f0a8ba25b50014": {
          "model_module": "@jupyter-widgets/controls",
          "model_name": "HBoxModel",
          "state": {
            "_view_name": "HBoxView",
            "_dom_classes": [],
            "_model_name": "HBoxModel",
            "_view_module": "@jupyter-widgets/controls",
            "_model_module_version": "1.5.0",
            "_view_count": null,
            "_view_module_version": "1.5.0",
            "box_style": "",
            "layout": "IPY_MODEL_c374c4d2d62c4155b6adfc94d0508cf3",
            "_model_module": "@jupyter-widgets/controls",
            "children": [
              "IPY_MODEL_c81642ce741c45338ffe1b37d9b602ae",
              "IPY_MODEL_6534c87c25124966821cdfc6a712deb1"
            ]
          }
        },
        "c374c4d2d62c4155b6adfc94d0508cf3": {
          "model_module": "@jupyter-widgets/base",
          "model_name": "LayoutModel",
          "state": {
            "_view_name": "LayoutView",
            "grid_template_rows": null,
            "right": null,
            "justify_content": null,
            "_view_module": "@jupyter-widgets/base",
            "overflow": null,
            "_model_module_version": "1.2.0",
            "_view_count": null,
            "flex_flow": null,
            "width": null,
            "min_width": null,
            "border": null,
            "align_items": null,
            "bottom": null,
            "_model_module": "@jupyter-widgets/base",
            "top": null,
            "grid_column": null,
            "overflow_y": null,
            "overflow_x": null,
            "grid_auto_flow": null,
            "grid_area": null,
            "grid_template_columns": null,
            "flex": null,
            "_model_name": "LayoutModel",
            "justify_items": null,
            "grid_row": null,
            "max_height": null,
            "align_content": null,
            "visibility": null,
            "align_self": null,
            "height": null,
            "min_height": null,
            "padding": null,
            "grid_auto_rows": null,
            "grid_gap": null,
            "max_width": null,
            "order": null,
            "_view_module_version": "1.2.0",
            "grid_template_areas": null,
            "object_position": null,
            "object_fit": null,
            "grid_auto_columns": null,
            "margin": null,
            "display": null,
            "left": null
          }
        },
        "c81642ce741c45338ffe1b37d9b602ae": {
          "model_module": "@jupyter-widgets/controls",
          "model_name": "FloatProgressModel",
          "state": {
            "_view_name": "ProgressView",
            "style": "IPY_MODEL_fca3734cd3284600b100c677c9ac691b",
            "_dom_classes": [],
            "description": "  0%",
            "_model_name": "FloatProgressModel",
            "bar_style": "danger",
            "max": 1193,
            "_view_module": "@jupyter-widgets/controls",
            "_model_module_version": "1.5.0",
            "value": 0,
            "_view_count": null,
            "_view_module_version": "1.5.0",
            "orientation": "horizontal",
            "min": 0,
            "description_tooltip": null,
            "_model_module": "@jupyter-widgets/controls",
            "layout": "IPY_MODEL_33a8d4a048174cb8b8bfdcb51d375814"
          }
        },
        "6534c87c25124966821cdfc6a712deb1": {
          "model_module": "@jupyter-widgets/controls",
          "model_name": "HTMLModel",
          "state": {
            "_view_name": "HTMLView",
            "style": "IPY_MODEL_34ce9bd3811c46d28c4521d009e15842",
            "_dom_classes": [],
            "description": "",
            "_model_name": "HTMLModel",
            "placeholder": "​",
            "_view_module": "@jupyter-widgets/controls",
            "_model_module_version": "1.5.0",
            "value": " 0/1193 [00:00&lt;?, ? examples/s]",
            "_view_count": null,
            "_view_module_version": "1.5.0",
            "description_tooltip": null,
            "_model_module": "@jupyter-widgets/controls",
            "layout": "IPY_MODEL_4f31fc39ff304d32a5544766c13becbc"
          }
        },
        "fca3734cd3284600b100c677c9ac691b": {
          "model_module": "@jupyter-widgets/controls",
          "model_name": "ProgressStyleModel",
          "state": {
            "_view_name": "StyleView",
            "_model_name": "ProgressStyleModel",
            "description_width": "initial",
            "_view_module": "@jupyter-widgets/base",
            "_model_module_version": "1.5.0",
            "_view_count": null,
            "_view_module_version": "1.2.0",
            "bar_color": null,
            "_model_module": "@jupyter-widgets/controls"
          }
        },
        "33a8d4a048174cb8b8bfdcb51d375814": {
          "model_module": "@jupyter-widgets/base",
          "model_name": "LayoutModel",
          "state": {
            "_view_name": "LayoutView",
            "grid_template_rows": null,
            "right": null,
            "justify_content": null,
            "_view_module": "@jupyter-widgets/base",
            "overflow": null,
            "_model_module_version": "1.2.0",
            "_view_count": null,
            "flex_flow": null,
            "width": null,
            "min_width": null,
            "border": null,
            "align_items": null,
            "bottom": null,
            "_model_module": "@jupyter-widgets/base",
            "top": null,
            "grid_column": null,
            "overflow_y": null,
            "overflow_x": null,
            "grid_auto_flow": null,
            "grid_area": null,
            "grid_template_columns": null,
            "flex": null,
            "_model_name": "LayoutModel",
            "justify_items": null,
            "grid_row": null,
            "max_height": null,
            "align_content": null,
            "visibility": null,
            "align_self": null,
            "height": null,
            "min_height": null,
            "padding": null,
            "grid_auto_rows": null,
            "grid_gap": null,
            "max_width": null,
            "order": null,
            "_view_module_version": "1.2.0",
            "grid_template_areas": null,
            "object_position": null,
            "object_fit": null,
            "grid_auto_columns": null,
            "margin": null,
            "display": null,
            "left": null
          }
        },
        "34ce9bd3811c46d28c4521d009e15842": {
          "model_module": "@jupyter-widgets/controls",
          "model_name": "DescriptionStyleModel",
          "state": {
            "_view_name": "StyleView",
            "_model_name": "DescriptionStyleModel",
            "description_width": "",
            "_view_module": "@jupyter-widgets/base",
            "_model_module_version": "1.5.0",
            "_view_count": null,
            "_view_module_version": "1.2.0",
            "_model_module": "@jupyter-widgets/controls"
          }
        },
        "4f31fc39ff304d32a5544766c13becbc": {
          "model_module": "@jupyter-widgets/base",
          "model_name": "LayoutModel",
          "state": {
            "_view_name": "LayoutView",
            "grid_template_rows": null,
            "right": null,
            "justify_content": null,
            "_view_module": "@jupyter-widgets/base",
            "overflow": null,
            "_model_module_version": "1.2.0",
            "_view_count": null,
            "flex_flow": null,
            "width": null,
            "min_width": null,
            "border": null,
            "align_items": null,
            "bottom": null,
            "_model_module": "@jupyter-widgets/base",
            "top": null,
            "grid_column": null,
            "overflow_y": null,
            "overflow_x": null,
            "grid_auto_flow": null,
            "grid_area": null,
            "grid_template_columns": null,
            "flex": null,
            "_model_name": "LayoutModel",
            "justify_items": null,
            "grid_row": null,
            "max_height": null,
            "align_content": null,
            "visibility": null,
            "align_self": null,
            "height": null,
            "min_height": null,
            "padding": null,
            "grid_auto_rows": null,
            "grid_gap": null,
            "max_width": null,
            "order": null,
            "_view_module_version": "1.2.0",
            "grid_template_areas": null,
            "object_position": null,
            "object_fit": null,
            "grid_auto_columns": null,
            "margin": null,
            "display": null,
            "left": null
          }
        },
        "b5c43a99617d4743940b09604e7b2a1b": {
          "model_module": "@jupyter-widgets/controls",
          "model_name": "HBoxModel",
          "state": {
            "_view_name": "HBoxView",
            "_dom_classes": [],
            "_model_name": "HBoxModel",
            "_view_module": "@jupyter-widgets/controls",
            "_model_module_version": "1.5.0",
            "_view_count": null,
            "_view_module_version": "1.5.0",
            "box_style": "",
            "layout": "IPY_MODEL_3c0af8981d3341d39ade8151975d8c68",
            "_model_module": "@jupyter-widgets/controls",
            "children": [
              "IPY_MODEL_b20f8d5aebe243d1acd3e1b7bcc70474",
              "IPY_MODEL_234a974113cb4870bb8863980eb32271"
            ]
          }
        },
        "3c0af8981d3341d39ade8151975d8c68": {
          "model_module": "@jupyter-widgets/base",
          "model_name": "LayoutModel",
          "state": {
            "_view_name": "LayoutView",
            "grid_template_rows": null,
            "right": null,
            "justify_content": null,
            "_view_module": "@jupyter-widgets/base",
            "overflow": null,
            "_model_module_version": "1.2.0",
            "_view_count": null,
            "flex_flow": null,
            "width": null,
            "min_width": null,
            "border": null,
            "align_items": null,
            "bottom": null,
            "_model_module": "@jupyter-widgets/base",
            "top": null,
            "grid_column": null,
            "overflow_y": null,
            "overflow_x": null,
            "grid_auto_flow": null,
            "grid_area": null,
            "grid_template_columns": null,
            "flex": null,
            "_model_name": "LayoutModel",
            "justify_items": null,
            "grid_row": null,
            "max_height": null,
            "align_content": null,
            "visibility": null,
            "align_self": null,
            "height": null,
            "min_height": null,
            "padding": null,
            "grid_auto_rows": null,
            "grid_gap": null,
            "max_width": null,
            "order": null,
            "_view_module_version": "1.2.0",
            "grid_template_areas": null,
            "object_position": null,
            "object_fit": null,
            "grid_auto_columns": null,
            "margin": null,
            "display": null,
            "left": null
          }
        },
        "b20f8d5aebe243d1acd3e1b7bcc70474": {
          "model_module": "@jupyter-widgets/controls",
          "model_name": "FloatProgressModel",
          "state": {
            "_view_name": "ProgressView",
            "style": "IPY_MODEL_d670ce89041e44d08b54e9f1c36b210d",
            "_dom_classes": [],
            "description": "",
            "_model_name": "FloatProgressModel",
            "bar_style": "info",
            "max": 1,
            "_view_module": "@jupyter-widgets/controls",
            "_model_module_version": "1.5.0",
            "value": 1,
            "_view_count": null,
            "_view_module_version": "1.5.0",
            "orientation": "horizontal",
            "min": 0,
            "description_tooltip": null,
            "_model_module": "@jupyter-widgets/controls",
            "layout": "IPY_MODEL_5203533bbe984001b45ab5698710016b"
          }
        },
        "234a974113cb4870bb8863980eb32271": {
          "model_module": "@jupyter-widgets/controls",
          "model_name": "HTMLModel",
          "state": {
            "_view_name": "HTMLView",
            "style": "IPY_MODEL_bc00b41684034448abf57cc1f17eb241",
            "_dom_classes": [],
            "description": "",
            "_model_name": "HTMLModel",
            "placeholder": "​",
            "_view_module": "@jupyter-widgets/controls",
            "_model_module_version": "1.5.0",
            "value": " 1803/0 [00:00&lt;00:00, 4494.67 examples/s]",
            "_view_count": null,
            "_view_module_version": "1.5.0",
            "description_tooltip": null,
            "_model_module": "@jupyter-widgets/controls",
            "layout": "IPY_MODEL_311250a145c34437a5220cb179227cef"
          }
        },
        "d670ce89041e44d08b54e9f1c36b210d": {
          "model_module": "@jupyter-widgets/controls",
          "model_name": "ProgressStyleModel",
          "state": {
            "_view_name": "StyleView",
            "_model_name": "ProgressStyleModel",
            "description_width": "initial",
            "_view_module": "@jupyter-widgets/base",
            "_model_module_version": "1.5.0",
            "_view_count": null,
            "_view_module_version": "1.2.0",
            "bar_color": null,
            "_model_module": "@jupyter-widgets/controls"
          }
        },
        "5203533bbe984001b45ab5698710016b": {
          "model_module": "@jupyter-widgets/base",
          "model_name": "LayoutModel",
          "state": {
            "_view_name": "LayoutView",
            "grid_template_rows": null,
            "right": null,
            "justify_content": null,
            "_view_module": "@jupyter-widgets/base",
            "overflow": null,
            "_model_module_version": "1.2.0",
            "_view_count": null,
            "flex_flow": null,
            "width": null,
            "min_width": null,
            "border": null,
            "align_items": null,
            "bottom": null,
            "_model_module": "@jupyter-widgets/base",
            "top": null,
            "grid_column": null,
            "overflow_y": null,
            "overflow_x": null,
            "grid_auto_flow": null,
            "grid_area": null,
            "grid_template_columns": null,
            "flex": null,
            "_model_name": "LayoutModel",
            "justify_items": null,
            "grid_row": null,
            "max_height": null,
            "align_content": null,
            "visibility": null,
            "align_self": null,
            "height": null,
            "min_height": null,
            "padding": null,
            "grid_auto_rows": null,
            "grid_gap": null,
            "max_width": null,
            "order": null,
            "_view_module_version": "1.2.0",
            "grid_template_areas": null,
            "object_position": null,
            "object_fit": null,
            "grid_auto_columns": null,
            "margin": null,
            "display": null,
            "left": null
          }
        },
        "bc00b41684034448abf57cc1f17eb241": {
          "model_module": "@jupyter-widgets/controls",
          "model_name": "DescriptionStyleModel",
          "state": {
            "_view_name": "StyleView",
            "_model_name": "DescriptionStyleModel",
            "description_width": "",
            "_view_module": "@jupyter-widgets/base",
            "_model_module_version": "1.5.0",
            "_view_count": null,
            "_view_module_version": "1.2.0",
            "_model_module": "@jupyter-widgets/controls"
          }
        },
        "311250a145c34437a5220cb179227cef": {
          "model_module": "@jupyter-widgets/base",
          "model_name": "LayoutModel",
          "state": {
            "_view_name": "LayoutView",
            "grid_template_rows": null,
            "right": null,
            "justify_content": null,
            "_view_module": "@jupyter-widgets/base",
            "overflow": null,
            "_model_module_version": "1.2.0",
            "_view_count": null,
            "flex_flow": null,
            "width": null,
            "min_width": null,
            "border": null,
            "align_items": null,
            "bottom": null,
            "_model_module": "@jupyter-widgets/base",
            "top": null,
            "grid_column": null,
            "overflow_y": null,
            "overflow_x": null,
            "grid_auto_flow": null,
            "grid_area": null,
            "grid_template_columns": null,
            "flex": null,
            "_model_name": "LayoutModel",
            "justify_items": null,
            "grid_row": null,
            "max_height": null,
            "align_content": null,
            "visibility": null,
            "align_self": null,
            "height": null,
            "min_height": null,
            "padding": null,
            "grid_auto_rows": null,
            "grid_gap": null,
            "max_width": null,
            "order": null,
            "_view_module_version": "1.2.0",
            "grid_template_areas": null,
            "object_position": null,
            "object_fit": null,
            "grid_auto_columns": null,
            "margin": null,
            "display": null,
            "left": null
          }
        },
        "3276d0364ba441e3844c30374f2b2622": {
          "model_module": "@jupyter-widgets/controls",
          "model_name": "HBoxModel",
          "state": {
            "_view_name": "HBoxView",
            "_dom_classes": [],
            "_model_name": "HBoxModel",
            "_view_module": "@jupyter-widgets/controls",
            "_model_module_version": "1.5.0",
            "_view_count": null,
            "_view_module_version": "1.5.0",
            "box_style": "",
            "layout": "IPY_MODEL_8c2881fce29943d790188c5549848f85",
            "_model_module": "@jupyter-widgets/controls",
            "children": [
              "IPY_MODEL_7347b6713c9d45b8ac82c33c2d592b0e",
              "IPY_MODEL_3e455b1d20224aa8b0f9501e216aee63"
            ]
          }
        },
        "8c2881fce29943d790188c5549848f85": {
          "model_module": "@jupyter-widgets/base",
          "model_name": "LayoutModel",
          "state": {
            "_view_name": "LayoutView",
            "grid_template_rows": null,
            "right": null,
            "justify_content": null,
            "_view_module": "@jupyter-widgets/base",
            "overflow": null,
            "_model_module_version": "1.2.0",
            "_view_count": null,
            "flex_flow": null,
            "width": null,
            "min_width": null,
            "border": null,
            "align_items": null,
            "bottom": null,
            "_model_module": "@jupyter-widgets/base",
            "top": null,
            "grid_column": null,
            "overflow_y": null,
            "overflow_x": null,
            "grid_auto_flow": null,
            "grid_area": null,
            "grid_template_columns": null,
            "flex": null,
            "_model_name": "LayoutModel",
            "justify_items": null,
            "grid_row": null,
            "max_height": null,
            "align_content": null,
            "visibility": null,
            "align_self": null,
            "height": null,
            "min_height": null,
            "padding": null,
            "grid_auto_rows": null,
            "grid_gap": null,
            "max_width": null,
            "order": null,
            "_view_module_version": "1.2.0",
            "grid_template_areas": null,
            "object_position": null,
            "object_fit": null,
            "grid_auto_columns": null,
            "margin": null,
            "display": null,
            "left": null
          }
        },
        "7347b6713c9d45b8ac82c33c2d592b0e": {
          "model_module": "@jupyter-widgets/controls",
          "model_name": "FloatProgressModel",
          "state": {
            "_view_name": "ProgressView",
            "style": "IPY_MODEL_90c05309280c44fb97489271c3c56598",
            "_dom_classes": [],
            "description": "  0%",
            "_model_name": "FloatProgressModel",
            "bar_style": "danger",
            "max": 1803,
            "_view_module": "@jupyter-widgets/controls",
            "_model_module_version": "1.5.0",
            "value": 0,
            "_view_count": null,
            "_view_module_version": "1.5.0",
            "orientation": "horizontal",
            "min": 0,
            "description_tooltip": null,
            "_model_module": "@jupyter-widgets/controls",
            "layout": "IPY_MODEL_50c81a4a00a947708501661051a0848e"
          }
        },
        "3e455b1d20224aa8b0f9501e216aee63": {
          "model_module": "@jupyter-widgets/controls",
          "model_name": "HTMLModel",
          "state": {
            "_view_name": "HTMLView",
            "style": "IPY_MODEL_43b3ce0a9220460eb3a75c06a6655c0f",
            "_dom_classes": [],
            "description": "",
            "_model_name": "HTMLModel",
            "placeholder": "​",
            "_view_module": "@jupyter-widgets/controls",
            "_model_module_version": "1.5.0",
            "value": " 0/1803 [00:00&lt;?, ? examples/s]",
            "_view_count": null,
            "_view_module_version": "1.5.0",
            "description_tooltip": null,
            "_model_module": "@jupyter-widgets/controls",
            "layout": "IPY_MODEL_67d8080a21e64779872c461eb5a33756"
          }
        },
        "90c05309280c44fb97489271c3c56598": {
          "model_module": "@jupyter-widgets/controls",
          "model_name": "ProgressStyleModel",
          "state": {
            "_view_name": "StyleView",
            "_model_name": "ProgressStyleModel",
            "description_width": "initial",
            "_view_module": "@jupyter-widgets/base",
            "_model_module_version": "1.5.0",
            "_view_count": null,
            "_view_module_version": "1.2.0",
            "bar_color": null,
            "_model_module": "@jupyter-widgets/controls"
          }
        },
        "50c81a4a00a947708501661051a0848e": {
          "model_module": "@jupyter-widgets/base",
          "model_name": "LayoutModel",
          "state": {
            "_view_name": "LayoutView",
            "grid_template_rows": null,
            "right": null,
            "justify_content": null,
            "_view_module": "@jupyter-widgets/base",
            "overflow": null,
            "_model_module_version": "1.2.0",
            "_view_count": null,
            "flex_flow": null,
            "width": null,
            "min_width": null,
            "border": null,
            "align_items": null,
            "bottom": null,
            "_model_module": "@jupyter-widgets/base",
            "top": null,
            "grid_column": null,
            "overflow_y": null,
            "overflow_x": null,
            "grid_auto_flow": null,
            "grid_area": null,
            "grid_template_columns": null,
            "flex": null,
            "_model_name": "LayoutModel",
            "justify_items": null,
            "grid_row": null,
            "max_height": null,
            "align_content": null,
            "visibility": null,
            "align_self": null,
            "height": null,
            "min_height": null,
            "padding": null,
            "grid_auto_rows": null,
            "grid_gap": null,
            "max_width": null,
            "order": null,
            "_view_module_version": "1.2.0",
            "grid_template_areas": null,
            "object_position": null,
            "object_fit": null,
            "grid_auto_columns": null,
            "margin": null,
            "display": null,
            "left": null
          }
        },
        "43b3ce0a9220460eb3a75c06a6655c0f": {
          "model_module": "@jupyter-widgets/controls",
          "model_name": "DescriptionStyleModel",
          "state": {
            "_view_name": "StyleView",
            "_model_name": "DescriptionStyleModel",
            "description_width": "",
            "_view_module": "@jupyter-widgets/base",
            "_model_module_version": "1.5.0",
            "_view_count": null,
            "_view_module_version": "1.2.0",
            "_model_module": "@jupyter-widgets/controls"
          }
        },
        "67d8080a21e64779872c461eb5a33756": {
          "model_module": "@jupyter-widgets/base",
          "model_name": "LayoutModel",
          "state": {
            "_view_name": "LayoutView",
            "grid_template_rows": null,
            "right": null,
            "justify_content": null,
            "_view_module": "@jupyter-widgets/base",
            "overflow": null,
            "_model_module_version": "1.2.0",
            "_view_count": null,
            "flex_flow": null,
            "width": null,
            "min_width": null,
            "border": null,
            "align_items": null,
            "bottom": null,
            "_model_module": "@jupyter-widgets/base",
            "top": null,
            "grid_column": null,
            "overflow_y": null,
            "overflow_x": null,
            "grid_auto_flow": null,
            "grid_area": null,
            "grid_template_columns": null,
            "flex": null,
            "_model_name": "LayoutModel",
            "justify_items": null,
            "grid_row": null,
            "max_height": null,
            "align_content": null,
            "visibility": null,
            "align_self": null,
            "height": null,
            "min_height": null,
            "padding": null,
            "grid_auto_rows": null,
            "grid_gap": null,
            "max_width": null,
            "order": null,
            "_view_module_version": "1.2.0",
            "grid_template_areas": null,
            "object_position": null,
            "object_fit": null,
            "grid_auto_columns": null,
            "margin": null,
            "display": null,
            "left": null
          }
        }
      }
    }
  },
  "cells": [
    {
      "cell_type": "markdown",
      "metadata": {
        "id": "QUTcDtnBGOEx"
      },
      "source": [
        "# Tradução com transformers"
      ]
    },
    {
      "cell_type": "markdown",
      "metadata": {
        "id": "eHu9d1EFM4FR"
      },
      "source": [
        "Nesse notebook desenvolveremos uma tradução de máquina utilizando modelo de Transformer. \n",
        "A idéia central do Transromer é a autoatenção, que é a capacidade de atender a diferentes posições da sequência de entrada para calcular uma representação dessa. O Transformer cria pilhas de camadas de autoatenção. \n",
        "\n",
        "Uma variável de tamanho de entrada alças modelo transformador usando pilhas de camadas auto-atenção, em vez de RNNs ou CNNs . Esta arquitetura geral tem uma série de vantagens:\n",
        "\n",
        "* Não faz suposições sobre as relações temporais / espaciais entre os dados. Isso é ideal para processar um conjunto de objetos (por exemplo, unidades StarCraft ).\n",
        "* As saídas da camada podem ser calculadas em paralelo, em vez de uma série como um RNN.\n",
        "* Os itens distantes podem afetar a saída uns dos outros sem passar por muitas etapas RNN ou camadas de convolução (consulte Scene Memory Transformer, por exemplo).\n",
        "* Ele pode aprender dependências de longo alcance. Este é um desafio em muitas tarefas de sequência.\n",
        "\n",
        "As desvantagens dessa arquitetura são:\n",
        "\n",
        "* Para uma série temporal, a saída de um intervalo de tempo é calculada a partir de todo o histórico, em vez de apenas as entradas e o estado oculto atual. Isso pode ser menos eficiente.\n",
        "* Se a entrada não tem uma relação temporal / espacial, como texto, deve ser adicionado alguns codificação posicional ou o modelo vai ver efetivamente um saco de palavras.\n",
        "\n",
        "**O Modelo nesse notebook vai seguir os passos de ensinamentos disponibilizados pelo google Tensorflow.** \n",
        "\n",
        "## Começamos com as configurações e Biblioteca"
      ]
    },
    {
      "cell_type": "code",
      "metadata": {
        "colab": {
          "base_uri": "https://localhost:8080/"
        },
        "id": "kezno52P3tHF",
        "outputId": "dc457fb3-0190-4a96-fab6-157a4f892625"
      },
      "source": [
        "#Habilitando a gpu no google colab\n",
        "%tensorflow_version 2.x\n",
        "import tensorflow as tf\n",
        "device_name = tf.test.gpu_device_name()\n",
        "if device_name != '/device:GPU:0':\n",
        "  raise SystemError('GPU device not found')\n",
        "print('Found GPU at: {}'.format(device_name))"
      ],
      "execution_count": null,
      "outputs": [
        {
          "output_type": "stream",
          "text": [
            "Found GPU at: /device:GPU:0\n"
          ],
          "name": "stdout"
        }
      ]
    },
    {
      "cell_type": "code",
      "metadata": {
        "colab": {
          "base_uri": "https://localhost:8080/"
        },
        "id": "zBOusOfhGKVp",
        "outputId": "62f978ed-8ce7-45f1-e4cb-88ac03878808"
      },
      "source": [
        "!pip install -q tensorflow_datasets\n",
        "!pip install -q tensorflow_text"
      ],
      "execution_count": null,
      "outputs": [
        {
          "output_type": "stream",
          "text": [
            "\u001b[K     |████████████████████████████████| 3.4MB 17.5MB/s \n",
            "\u001b[?25h"
          ],
          "name": "stdout"
        }
      ]
    },
    {
      "cell_type": "code",
      "metadata": {
        "id": "f7QmBLXRM11B"
      },
      "source": [
        "import collections\n",
        "import logging\n",
        "import os\n",
        "import pathlib\n",
        "import re\n",
        "import string\n",
        "import sys\n",
        "import time\n",
        "\n",
        "import numpy as np\n",
        "import matplotlib.pyplot as plt\n",
        "\n",
        "import tensorflow_datasets as tfds\n",
        "import tensorflow_text as text"
      ],
      "execution_count": null,
      "outputs": []
    },
    {
      "cell_type": "code",
      "metadata": {
        "id": "m17v4JaSNO8A"
      },
      "source": [
        "#Esconder avisos\n",
        "logging.getLogger('tensorflow').setLevel(logging.ERROR)"
      ],
      "execution_count": null,
      "outputs": []
    },
    {
      "cell_type": "markdown",
      "metadata": {
        "id": "KO4q17vsNwYA"
      },
      "source": [
        "## Baixando o Dataset\n",
        "\n",
        "Agora que terminamos com as configurações, vamos baixar o Dataset que será usando nese notebook\n",
        "Iremos usar dataset disponibilizado pelo TensorFlow para carregar as traduções de Português-Inglês do prójeto do [TED Talks Open Translation Project](https://www.ted.com/participate/translate).\n",
        "\n",
        "Esse dataset contem aproximadamente 50 mil exemplos, 1100 exemplos de validações e 2000 exemplos para teste"
      ]
    },
    {
      "cell_type": "code",
      "metadata": {
        "colab": {
          "base_uri": "https://localhost:8080/",
          "height": 404,
          "referenced_widgets": [
            "a7fb3a23e989416b9fb549d2b9cc14d5",
            "9a934f44a36346bd80016f7d16d31475",
            "69268e1acd4b49819cab533cfa6e6e47",
            "1a462215b6e44258a3b7aff599a8f51c",
            "347cd6d66f6048f9bcdccb7dc4a274f2",
            "444c8655c602427b84dcd264129ec80b",
            "af0deb3f42ed41dbacdc9d0e9d18cf31",
            "43d8687a05194fc2bf859e13006cede4",
            "1c824a74cdd946f5a0f7e6a9701a2e62",
            "7e36027fa1b94c739708d47a853b8d75",
            "d04017f339f8409c87ffc6ae50744dc3",
            "bda145c239394f4a8e326ca79636c08c",
            "cb7f4471ed2b49708e94f4e10a617add",
            "b5d4e0de4a63404fa6b34e9ef6d09ff1",
            "670f51b6386d445c85a3a7bff8d4a42f",
            "bd85bbe8ce344c6bb5eb6a6eb20034da",
            "b46d910536d44867b0a492449cb84e58",
            "08fff85dd86f44088160b36528f63bdf",
            "646876aa94844567a8411af13802a7fc",
            "d4f327f9221c4ed7b7292e7a56f81248",
            "dd28818e181c4767a55e91189912275c",
            "a4414dd08c384d6fbb78bc5d9db8883c",
            "24e19b7367b44c4b839722e2351e8a62",
            "045f496e57414f239753aaf65df86fc8",
            "d225e74687644825ba5e60f02e204b4b",
            "107aba0a18dd4629a908b456ab678b10",
            "af4343276b65465ea6419749d0f383d3",
            "9a920d99ebf1445e9f7ae900ca4c429c",
            "296f23da51874f179178f6c9c519fefd",
            "ebe7cf4d4e2d49409dda0e3623a1b9b1",
            "804e1da3e33040629aa428c89f39ee5b",
            "ace84099d90d41538dafbd377c71a218",
            "b91e0be1293b4b899fa594314a79c115",
            "c45ca5e58696439e9660ae4784a1eac7",
            "0dbb3d42c0e74402b1b7bc66813e22bc",
            "fdd98e2d66e84c13a42a5206766917d8",
            "20e01328a1694a55b46a41adce498d45",
            "a8c82c3910af4243abceea7d83f71e5f",
            "6e9557142365433abc38a66a09a707c3",
            "3e13c71443514ed495c9322b28859933",
            "a69350e3d49c4566861780abfe1023ab",
            "d9ea8fdd8f7b4bd7b7f4a42cd834a076",
            "b36e0537bb3e4916ac93427ebd1bda75",
            "12192e330eec4da5b53bef1e23c3477b",
            "4a7838b04797455c86d69fb334cc8da9",
            "469492b81c1645ea925031e7e324eb4e",
            "848d99eeb1b94fb4b48c797013f47000",
            "a46410bded0e4a2e83a5f1bbb2107876",
            "b6ab53065cac40c0a1f0a8ba25b50014",
            "c374c4d2d62c4155b6adfc94d0508cf3",
            "c81642ce741c45338ffe1b37d9b602ae",
            "6534c87c25124966821cdfc6a712deb1",
            "fca3734cd3284600b100c677c9ac691b",
            "33a8d4a048174cb8b8bfdcb51d375814",
            "34ce9bd3811c46d28c4521d009e15842",
            "4f31fc39ff304d32a5544766c13becbc",
            "b5c43a99617d4743940b09604e7b2a1b",
            "3c0af8981d3341d39ade8151975d8c68",
            "b20f8d5aebe243d1acd3e1b7bcc70474",
            "234a974113cb4870bb8863980eb32271",
            "d670ce89041e44d08b54e9f1c36b210d",
            "5203533bbe984001b45ab5698710016b",
            "bc00b41684034448abf57cc1f17eb241",
            "311250a145c34437a5220cb179227cef",
            "3276d0364ba441e3844c30374f2b2622",
            "8c2881fce29943d790188c5549848f85",
            "7347b6713c9d45b8ac82c33c2d592b0e",
            "3e455b1d20224aa8b0f9501e216aee63",
            "90c05309280c44fb97489271c3c56598",
            "50c81a4a00a947708501661051a0848e",
            "43b3ce0a9220460eb3a75c06a6655c0f",
            "67d8080a21e64779872c461eb5a33756"
          ]
        },
        "id": "UNbJc2LUOgCz",
        "outputId": "6c13250d-422e-43de-a17f-94b0abe003e0"
      },
      "source": [
        "exemplos, metadata = tfds.load('ted_hrlr_translate/pt_to_en', with_info=True, as_supervised=True)\n",
        "train, validation = exemplos['train'], exemplos['validation']"
      ],
      "execution_count": null,
      "outputs": [
        {
          "output_type": "stream",
          "text": [
            "\u001b[1mDownloading and preparing dataset ted_hrlr_translate/pt_to_en/1.0.0 (download: 124.94 MiB, generated: Unknown size, total: 124.94 MiB) to /root/tensorflow_datasets/ted_hrlr_translate/pt_to_en/1.0.0...\u001b[0m\n"
          ],
          "name": "stdout"
        },
        {
          "output_type": "display_data",
          "data": {
            "application/vnd.jupyter.widget-view+json": {
              "model_id": "a7fb3a23e989416b9fb549d2b9cc14d5",
              "version_minor": 0,
              "version_major": 2
            },
            "text/plain": [
              "HBox(children=(FloatProgress(value=1.0, bar_style='info', description='Dl Completed...', max=1.0, style=Progre…"
            ]
          },
          "metadata": {
            "tags": []
          }
        },
        {
          "output_type": "display_data",
          "data": {
            "application/vnd.jupyter.widget-view+json": {
              "model_id": "1c824a74cdd946f5a0f7e6a9701a2e62",
              "version_minor": 0,
              "version_major": 2
            },
            "text/plain": [
              "HBox(children=(FloatProgress(value=1.0, bar_style='info', description='Dl Size...', max=1.0, style=ProgressSty…"
            ]
          },
          "metadata": {
            "tags": []
          }
        },
        {
          "output_type": "display_data",
          "data": {
            "application/vnd.jupyter.widget-view+json": {
              "model_id": "b46d910536d44867b0a492449cb84e58",
              "version_minor": 0,
              "version_major": 2
            },
            "text/plain": [
              "HBox(children=(FloatProgress(value=1.0, bar_style='info', description='Extraction completed...', max=1.0, styl…"
            ]
          },
          "metadata": {
            "tags": []
          }
        },
        {
          "output_type": "stream",
          "text": [
            "\n",
            "\n",
            "\n",
            "\n",
            "\n",
            "\n"
          ],
          "name": "stdout"
        },
        {
          "output_type": "display_data",
          "data": {
            "application/vnd.jupyter.widget-view+json": {
              "model_id": "d225e74687644825ba5e60f02e204b4b",
              "version_minor": 0,
              "version_major": 2
            },
            "text/plain": [
              "HBox(children=(FloatProgress(value=1.0, bar_style='info', max=1.0), HTML(value='')))"
            ]
          },
          "metadata": {
            "tags": []
          }
        },
        {
          "output_type": "stream",
          "text": [
            "\rShuffling and writing examples to /root/tensorflow_datasets/ted_hrlr_translate/pt_to_en/1.0.0.incomplete9RKBKC/ted_hrlr_translate-train.tfrecord\n"
          ],
          "name": "stdout"
        },
        {
          "output_type": "display_data",
          "data": {
            "application/vnd.jupyter.widget-view+json": {
              "model_id": "b91e0be1293b4b899fa594314a79c115",
              "version_minor": 0,
              "version_major": 2
            },
            "text/plain": [
              "HBox(children=(FloatProgress(value=0.0, max=51785.0), HTML(value='')))"
            ]
          },
          "metadata": {
            "tags": []
          }
        },
        {
          "output_type": "stream",
          "text": [
            "\r"
          ],
          "name": "stdout"
        },
        {
          "output_type": "display_data",
          "data": {
            "application/vnd.jupyter.widget-view+json": {
              "model_id": "a69350e3d49c4566861780abfe1023ab",
              "version_minor": 0,
              "version_major": 2
            },
            "text/plain": [
              "HBox(children=(FloatProgress(value=1.0, bar_style='info', max=1.0), HTML(value='')))"
            ]
          },
          "metadata": {
            "tags": []
          }
        },
        {
          "output_type": "stream",
          "text": [
            "\rShuffling and writing examples to /root/tensorflow_datasets/ted_hrlr_translate/pt_to_en/1.0.0.incomplete9RKBKC/ted_hrlr_translate-validation.tfrecord\n"
          ],
          "name": "stdout"
        },
        {
          "output_type": "display_data",
          "data": {
            "application/vnd.jupyter.widget-view+json": {
              "model_id": "b6ab53065cac40c0a1f0a8ba25b50014",
              "version_minor": 0,
              "version_major": 2
            },
            "text/plain": [
              "HBox(children=(FloatProgress(value=0.0, max=1193.0), HTML(value='')))"
            ]
          },
          "metadata": {
            "tags": []
          }
        },
        {
          "output_type": "stream",
          "text": [
            "\r"
          ],
          "name": "stdout"
        },
        {
          "output_type": "display_data",
          "data": {
            "application/vnd.jupyter.widget-view+json": {
              "model_id": "b5c43a99617d4743940b09604e7b2a1b",
              "version_minor": 0,
              "version_major": 2
            },
            "text/plain": [
              "HBox(children=(FloatProgress(value=1.0, bar_style='info', max=1.0), HTML(value='')))"
            ]
          },
          "metadata": {
            "tags": []
          }
        },
        {
          "output_type": "stream",
          "text": [
            "\rShuffling and writing examples to /root/tensorflow_datasets/ted_hrlr_translate/pt_to_en/1.0.0.incomplete9RKBKC/ted_hrlr_translate-test.tfrecord\n"
          ],
          "name": "stdout"
        },
        {
          "output_type": "display_data",
          "data": {
            "application/vnd.jupyter.widget-view+json": {
              "model_id": "3276d0364ba441e3844c30374f2b2622",
              "version_minor": 0,
              "version_major": 2
            },
            "text/plain": [
              "HBox(children=(FloatProgress(value=0.0, max=1803.0), HTML(value='')))"
            ]
          },
          "metadata": {
            "tags": []
          }
        },
        {
          "output_type": "stream",
          "text": [
            "\u001b[1mDataset ted_hrlr_translate downloaded and prepared to /root/tensorflow_datasets/ted_hrlr_translate/pt_to_en/1.0.0. Subsequent calls will reuse this data.\u001b[0m\n",
            "\r"
          ],
          "name": "stdout"
        }
      ]
    },
    {
      "cell_type": "code",
      "metadata": {
        "colab": {
          "base_uri": "https://localhost:8080/"
        },
        "id": "MePoiZ_rNorr",
        "outputId": "eff4c89a-600b-4a0e-92ae-53dc9073323b"
      },
      "source": [
        "#O objeto tf.data.Dataset retornado pelos conjuntos de dados TensorFlow produz pares de exemplos de texto:\n",
        "for exemplos_pt, exemplos_en in train.batch(3).take(2):\n",
        "  for pt in exemplos_pt.numpy():\n",
        "    print(pt.decode('utf-8'))\n",
        "\n",
        "    print()\n",
        "\n",
        "    for en in exemplos_en.numpy():\n",
        "      print(en.decode('utf-8'))"
      ],
      "execution_count": null,
      "outputs": [
        {
          "output_type": "stream",
          "text": [
            "e quando melhoramos a procura , tiramos a única vantagem da impressão , que é a serendipidade .\n",
            "\n",
            "and when you improve searchability , you actually take away the one advantage of print , which is serendipity .\n",
            "but what if it were active ?\n",
            "but they did n't test for curiosity .\n",
            "mas e se estes fatores fossem ativos ?\n",
            "\n",
            "and when you improve searchability , you actually take away the one advantage of print , which is serendipity .\n",
            "but what if it were active ?\n",
            "but they did n't test for curiosity .\n",
            "mas eles não tinham a curiosidade de me testar .\n",
            "\n",
            "and when you improve searchability , you actually take away the one advantage of print , which is serendipity .\n",
            "but what if it were active ?\n",
            "but they did n't test for curiosity .\n",
            "e esta rebeldia consciente é a razão pela qual eu , como agnóstica , posso ainda ter fé .\n",
            "\n",
            "and this conscious defiance is why i , as an agnostic , can still have faith .\n",
            "you can use everything on the table on me .\n",
            "`` i write a lot about `` '' security theater , '' '' which are products that make people feel secure , but do n't actually do anything . ''\n",
            "`` `` '' podem usar tudo sobre a mesa no meu corpo . ''\n",
            "\n",
            "and this conscious defiance is why i , as an agnostic , can still have faith .\n",
            "you can use everything on the table on me .\n",
            "`` i write a lot about `` '' security theater , '' '' which are products that make people feel secure , but do n't actually do anything . ''\n",
            "`` eu escrevo muito acerca do `` '' teatro de segurança '' '' , que são produtos que fazem as pessoas sentirem-se seguras mas que , na realidade , não fazem nada . ''\n",
            "\n",
            "and this conscious defiance is why i , as an agnostic , can still have faith .\n",
            "you can use everything on the table on me .\n",
            "`` i write a lot about `` '' security theater , '' '' which are products that make people feel secure , but do n't actually do anything . ''\n"
          ],
          "name": "stdout"
        }
      ]
    },
    {
      "cell_type": "markdown",
      "metadata": {
        "id": "ofYLssvuRdjJ"
      },
      "source": [
        "## Tokenização e detokenização de texto\n",
        "\n",
        "Antes de trinar o modelo precisamos converter o texto para alguma representação númerica. O método mais conhecido é converter o texto em sequeência de IDs de token, que são como índices em uma incoporação\n",
        "\n",
        "Utilizaremos o o modelo ensino pelo google neste [tutoial](https://www.tensorflow.org/tutorials/tensorflow_text/subwords_tokenizer). Otimizamos para este conjunto de dados. \n",
        "\n",
        "Vamos começar naixando e importando o modelo:"
      ]
    },
    {
      "cell_type": "code",
      "metadata": {
        "colab": {
          "base_uri": "https://localhost:8080/",
          "height": 71
        },
        "id": "spjeB8SESnDH",
        "outputId": "aef77e69-caba-415e-c3ae-19cc51662acf"
      },
      "source": [
        "modelo = \"ted_hrlr_translate_pt_en_converter\"\n",
        "tf.keras.utils.get_file(\n",
        "    f\"{modelo}.zip\",\n",
        "    f\"https://storage.googleapis.com/download.tensorflow.org/models/{modelo}.zip\",\n",
        "    cache_dir='.', cache_subdir='', extract=True\n",
        ")"
      ],
      "execution_count": null,
      "outputs": [
        {
          "output_type": "stream",
          "text": [
            "Downloading data from https://storage.googleapis.com/download.tensorflow.org/models/ted_hrlr_translate_pt_en_converter.zip\n",
            "188416/184801 [==============================] - 0s 0us/step\n"
          ],
          "name": "stdout"
        },
        {
          "output_type": "execute_result",
          "data": {
            "application/vnd.google.colaboratory.intrinsic+json": {
              "type": "string"
            },
            "text/plain": [
              "'./ted_hrlr_translate_pt_en_converter.zip'"
            ]
          },
          "metadata": {
            "tags": []
          },
          "execution_count": 7
        }
      ]
    },
    {
      "cell_type": "code",
      "metadata": {
        "colab": {
          "base_uri": "https://localhost:8080/"
        },
        "id": "YupHZhVPSvwp",
        "outputId": "807b2534-3245-433e-ac7c-af610c26ad5c"
      },
      "source": [
        "# Vamos dar uma olhada no tf.saved_model que contem dois modelos de tokenizers de texto, um para inglês e outro para português.\n",
        "tokenizers = tf.saved_model.load(modelo)\n",
        "[item for item in dir(tokenizers.en) if not item.startswith('_')]"
      ],
      "execution_count": null,
      "outputs": [
        {
          "output_type": "execute_result",
          "data": {
            "text/plain": [
              "['detokenize',\n",
              " 'get_reserved_tokens',\n",
              " 'get_vocab_path',\n",
              " 'get_vocab_size',\n",
              " 'lookup',\n",
              " 'tokenize',\n",
              " 'tokenizer',\n",
              " 'vocab']"
            ]
          },
          "metadata": {
            "tags": []
          },
          "execution_count": 8
        }
      ]
    },
    {
      "cell_type": "markdown",
      "metadata": {
        "id": "7iEFglONUzF_"
      },
      "source": [
        "O método tokenize converte um lote de strings em um lote preenchido de IDs de token. Com esse método, ele divide a pontução, letras minúsculas e unicode-normaliza a entrada antes de tokenizar. "
      ]
    },
    {
      "cell_type": "code",
      "metadata": {
        "colab": {
          "base_uri": "https://localhost:8080/"
        },
        "id": "2-lKrxt5VK-4",
        "outputId": "9211e8a7-6bef-4bbe-c5c5-5287a879eac8"
      },
      "source": [
        "for en in exemplos_en.numpy():\n",
        "  print(en.decode('utf-8'))"
      ],
      "execution_count": null,
      "outputs": [
        {
          "output_type": "stream",
          "text": [
            "and this conscious defiance is why i , as an agnostic , can still have faith .\n",
            "you can use everything on the table on me .\n",
            "`` i write a lot about `` '' security theater , '' '' which are products that make people feel secure , but do n't actually do anything . ''\n"
          ],
          "name": "stdout"
        }
      ]
    },
    {
      "cell_type": "code",
      "metadata": {
        "colab": {
          "base_uri": "https://localhost:8080/"
        },
        "id": "yPr8bVYaVR84",
        "outputId": "8bbecf4e-71b4-43ee-f771-abe71e7feb50"
      },
      "source": [
        "encoded = tokenizers.en.tokenize(exemplos_en)\n",
        "\n",
        "for row in encoded.to_list():\n",
        "  print(row)"
      ],
      "execution_count": null,
      "outputs": [
        {
          "output_type": "stream",
          "text": [
            "[2, 72, 81, 2508, 2159, 3072, 1282, 80, 192, 45, 13, 100, 111, 6040, 3176, 3186, 13, 94, 235, 89, 1938, 15, 3]\n",
            "[2, 79, 94, 212, 299, 92, 71, 1356, 92, 114, 15, 3]\n",
            "[2, 36, 36, 45, 712, 37, 199, 95, 36, 36, 9, 9, 892, 3270, 13, 9, 9, 9, 9, 148, 86, 1321, 75, 161, 104, 309, 1871, 13, 87, 91, 50, 9, 56, 150, 91, 440, 15, 9, 9, 3]\n"
          ],
          "name": "stdout"
        }
      ]
    },
    {
      "cell_type": "code",
      "metadata": {
        "colab": {
          "base_uri": "https://localhost:8080/"
        },
        "id": "ZFNm1kRRUW9S",
        "outputId": "b65b9acf-77de-489a-e093-d130f8ab633d"
      },
      "source": [
        "# O método detokenize faz uma tentativa de converter esses vitores de token de volta em texto legível. Vamos testa-los!\n",
        "retornar = tokenizers.en.detokenize(encoded)\n",
        "for line in retornar.numpy():\n",
        "  print(line.decode('utf-8'))"
      ],
      "execution_count": null,
      "outputs": [
        {
          "output_type": "stream",
          "text": [
            "and this conscious defiance is why i , as an agnostic , can still have faith .\n",
            "you can use everything on the table on me .\n",
            "` ` i write a lot about ` ` ' ' security theater , ' ' ' ' which are products that make people feel secure , but do n ' t actually do anything . ' '\n"
          ],
          "name": "stdout"
        }
      ]
    },
    {
      "cell_type": "code",
      "metadata": {
        "colab": {
          "base_uri": "https://localhost:8080/"
        },
        "id": "lbpa45_RVgDf",
        "outputId": "566f7264-4405-4f25-81f7-dace7af97843"
      },
      "source": [
        "# O método lookup nível inferior converte de token-IDs em texto de token:\n",
        "tokens = tokenizers.en.lookup(encoded)\n",
        "tokens"
      ],
      "execution_count": null,
      "outputs": [
        {
          "output_type": "execute_result",
          "data": {
            "text/plain": [
              "<tf.RaggedTensor [[b'[START]', b'and', b'this', b'conscious', b'de', b'##fi', b'##ance', b'is', b'why', b'i', b',', b'as', b'an', b'ag', b'##no', b'##stic', b',', b'can', b'still', b'have', b'faith', b'.', b'[END]'], [b'[START]', b'you', b'can', b'use', b'everything', b'on', b'the', b'table', b'on', b'me', b'.', b'[END]'], [b'[START]', b'`', b'`', b'i', b'write', b'a', b'lot', b'about', b'`', b'`', b\"'\", b\"'\", b'security', b'theater', b',', b\"'\", b\"'\", b\"'\", b\"'\", b'which', b'are', b'products', b'that', b'make', b'people', b'feel', b'secure', b',', b'but', b'do', b'n', b\"'\", b't', b'actually', b'do', b'anything', b'.', b\"'\", b\"'\", b'[END]']]>"
            ]
          },
          "metadata": {
            "tags": []
          },
          "execution_count": 12
        }
      ]
    },
    {
      "cell_type": "markdown",
      "metadata": {
        "id": "IdJcy_JBW3KI"
      },
      "source": [
        "## Configurando o pipeline de entrada\n",
        "\n",
        "Agora que terminamos de analisar e os dados do dataset podemos começar a contruir um pipeline de entrada adequado para treinamento. \n",
        "Iremos nesses passos aplicar algumas transformações ao conjuto de dados. \n",
        "\n",
        "A próxima função será usada para codificar os lotes de textos bruto:"
      ]
    },
    {
      "cell_type": "code",
      "metadata": {
        "id": "fPgp5QgBWj0B"
      },
      "source": [
        "def tokenize_paires(pt, en):\n",
        "    pt = tokenizers.pt.tokenize(pt)\n",
        "    # Converte de ragged para dense, preenchendo com zeros. \n",
        "    pt = pt.to_tensor()\n",
        "\n",
        "    en = tokenizers.en.tokenize(en)\n",
        "    # Converte de ragged para dense, preenchendo com zeros. \n",
        "    en = en.to_tensor()\n",
        "    return pt, en"
      ],
      "execution_count": null,
      "outputs": []
    },
    {
      "cell_type": "code",
      "metadata": {
        "id": "QC27gdttXtF3"
      },
      "source": [
        "# Pipeline de entrada simples que processa, embaralha e agrupa os dados:\n",
        "BUFFER_SIZE = 20000\n",
        "BATCH_SIZE = 64"
      ],
      "execution_count": null,
      "outputs": []
    },
    {
      "cell_type": "code",
      "metadata": {
        "id": "7Zr7ivu4ROLL"
      },
      "source": [
        "def make_batches(ds):\n",
        "  return (\n",
        "      ds\n",
        "      .cache()\n",
        "      .shuffle(BUFFER_SIZE)\n",
        "      .batch(BATCH_SIZE)\n",
        "      .map(tokenize_paires, num_parallel_calls=tf.data.AUTOTUNE)\n",
        "      .prefetch(tf.data.AUTOTUNE))\n",
        "\n",
        "\n",
        "train_batches = make_batches(train)\n",
        "val_batches = make_batches(validation)"
      ],
      "execution_count": null,
      "outputs": []
    },
    {
      "cell_type": "markdown",
      "metadata": {
        "id": "sZY1gVKRZC8I"
      },
      "source": [
        "# Condificação posicional\n",
        "\n",
        "Vamos agora implmentar a codificação posicional para fornecer ao modelo algumas informações sobre a posição relativa das palavras e frase."
      ]
    },
    {
      "cell_type": "code",
      "metadata": {
        "id": "lHdGL8lrYKsa"
      },
      "source": [
        "def get_angles(pos, i, d_model):\n",
        "  angle_rates = 1 / np.power(10000, (2 * (i//2)) / np.float32(d_model))\n",
        "  return pos * angle_rates"
      ],
      "execution_count": null,
      "outputs": []
    },
    {
      "cell_type": "code",
      "metadata": {
        "id": "90PYvn-HbCq3"
      },
      "source": [
        "def positional_encoding(position, d_model):\n",
        "  angle_rads = get_angles(np.arange(position)[:, np.newaxis],\n",
        "                          np.arange(d_model)[np.newaxis, :],\n",
        "                          d_model)\n",
        "\n",
        "  # aplicar a função seno a índices pares na matriz; 2i\n",
        "  angle_rads[:, 0::2] = np.sin(angle_rads[:, 0::2])\n",
        "\n",
        "  # aplicar a função cosseno a índices pares na matriz; 2i+1\n",
        "  angle_rads[:, 1::2] = np.cos(angle_rads[:, 1::2])\n",
        "\n",
        "  pos_encoding = angle_rads[np.newaxis, ...]\n",
        "\n",
        "  return tf.cast(pos_encoding, dtype=tf.float32)"
      ],
      "execution_count": null,
      "outputs": []
    },
    {
      "cell_type": "code",
      "metadata": {
        "colab": {
          "base_uri": "https://localhost:8080/",
          "height": 301
        },
        "id": "OQC6uXi7bXGT",
        "outputId": "5b3718b5-c149-4cca-fc4f-d3cb522600cc"
      },
      "source": [
        "n, d = 2048, 512\n",
        "pos_encoding = positional_encoding(n, d)\n",
        "print(pos_encoding.shape)\n",
        "pos_encoding = pos_encoding[0]\n",
        "\n",
        "# Vamos olhar as dimensões d plot\n",
        "pos_encoding = tf.reshape(pos_encoding, (n, d//2, 2))\n",
        "pos_encoding = tf.transpose(pos_encoding, (2, 1, 0))\n",
        "pos_encoding = tf.reshape(pos_encoding, (d, n))\n",
        "\n",
        "plt.pcolormesh(pos_encoding, cmap='RdBu')\n",
        "plt.ylabel('Profundidade')\n",
        "plt.xlabel('Posição')\n",
        "plt.colorbar()\n",
        "plt.show()"
      ],
      "execution_count": null,
      "outputs": [
        {
          "output_type": "stream",
          "text": [
            "(1, 2048, 512)\n"
          ],
          "name": "stdout"
        },
        {
          "output_type": "display_data",
          "data": {
            "image/png": "[encoded data removed]",
            "text/plain": [
              "<Figure size 432x288 with 2 Axes>"
            ]
          },
          "metadata": {
            "tags": [],
            "needs_background": "light"
          }
        }
      ]
    },
    {
      "cell_type": "markdown",
      "metadata": {
        "id": "k43va1eTbxxg"
      },
      "source": [
        "## Mascaramento\n",
        "\n",
        "Vamos agora mascarar todos os tokens de pad no lote da sequência. Isso garante que o modelo não trate o preenchimento como entrada. \n",
        "A máscara indica onde o calor pad 0 está presente: ela produz um 1 nesses locais e um 0 caso contrário."
      ]
    },
    {
      "cell_type": "code",
      "metadata": {
        "id": "8g33FiU7bajb"
      },
      "source": [
        "def create_padding_mask(seq):\n",
        "  seq = tf.cast(tf.math.equal(seq, 0), tf.float32)\n",
        "\n",
        "  # Adicionando dimensões extras para adcionar o preenchimento 'padding' aos logys de atenção.\n",
        "  return seq[:, tf.newaxis, tf.newaxis, :]  # (tamanho do batch, 1, 1, seq_len)"
      ],
      "execution_count": null,
      "outputs": []
    },
    {
      "cell_type": "code",
      "metadata": {
        "colab": {
          "base_uri": "https://localhost:8080/"
        },
        "id": "pA07I1qActbK",
        "outputId": "cd47924b-012e-43e4-d141-b9d014b3795c"
      },
      "source": [
        "x = tf.constant([[7, 6, 0, 0, 1], [1, 2, 3, 0, 0], [0, 0, 0, 4, 5]])\n",
        "create_padding_mask(x)"
      ],
      "execution_count": null,
      "outputs": [
        {
          "output_type": "execute_result",
          "data": {
            "text/plain": [
              "<tf.Tensor: shape=(3, 1, 1, 5), dtype=float32, numpy=\n",
              "array([[[[0., 0., 1., 1., 0.]]],\n",
              "\n",
              "\n",
              "       [[[0., 0., 0., 1., 1.]]],\n",
              "\n",
              "\n",
              "       [[[1., 1., 1., 0., 0.]]]], dtype=float32)>"
            ]
          },
          "metadata": {
            "tags": []
          },
          "execution_count": 20
        }
      ]
    },
    {
      "cell_type": "markdown",
      "metadata": {
        "id": "V7IBLHSPc8q6"
      },
      "source": [
        "A máscara de antecipação é usada para mascarar os tokens futuros em uma sequência. \n",
        "\n",
        "Isso siginifica que, para prever terceira palavra, apenas a primeira e asegunda palavra serão usadas. Da mesma forma, para prever a quarta palavra, apenas a primeiram a segunda e terceira palavras serão usadas e assim por diente. "
      ]
    },
    {
      "cell_type": "code",
      "metadata": {
        "id": "cSftXtjbcxaC"
      },
      "source": [
        "def create_look_ahead_mask(size):\n",
        "  mask = 1 - tf.linalg.band_part(tf.ones((size, size)), -1, 0)\n",
        "  return mask  # (seq_len, seq_len)"
      ],
      "execution_count": null,
      "outputs": []
    },
    {
      "cell_type": "code",
      "metadata": {
        "colab": {
          "base_uri": "https://localhost:8080/"
        },
        "id": "OHfcLYdOdWuu",
        "outputId": "d694df5a-8fa2-49a1-ee25-93356f22f73c"
      },
      "source": [
        "x = tf.random.uniform((1, 3))\n",
        "temp = create_look_ahead_mask(x.shape[1])\n",
        "temp"
      ],
      "execution_count": null,
      "outputs": [
        {
          "output_type": "execute_result",
          "data": {
            "text/plain": [
              "<tf.Tensor: shape=(3, 3), dtype=float32, numpy=\n",
              "array([[0., 1., 1.],\n",
              "       [0., 0., 1.],\n",
              "       [0., 0., 0.]], dtype=float32)>"
            ]
          },
          "metadata": {
            "tags": []
          },
          "execution_count": 22
        }
      ]
    },
    {
      "cell_type": "markdown",
      "metadata": {
        "id": "YBDIYgkCdfUz"
      },
      "source": [
        "## Função de atenção ao produto escalonado\n",
        "\n",
        "A função de atenção usada pelo transformador tem três entradas: Q (consulta), K (chave), V (valor). \n",
        "Isso é feito porque para grandes valores de profundidade, o produto escalar cresce em magnitude empurrando a função softmax onde tem pequenos gradientes resultando em um softmax muito difícil."
      ]
    },
    {
      "cell_type": "code",
      "metadata": {
        "id": "BctVIt6QdYlw"
      },
      "source": [
        "def scaled_dot_product_attention(q, k, v, mask):\n",
        "  '''Calcule os pesos de atenção.\n",
        "    q, k, v devem ter dimensões principais correspondentes.\n",
        "    k, v deve ter a penúltima dimensão correspondente, ou seja: seq_len_k = seq_len_v.\n",
        "    A máscara tem diferentes formas dependendo do seu tipo (preenchimento ou visualização)\n",
        "    mas deve ser transmitido para adição.\n",
        "\n",
        "    Args:\n",
        "      q: formato da query == (..., seq_len_q, depth)\n",
        "      k: formato da chave == (..., seq_len_k, depth)\n",
        "      v: formato do valor == (..., seq_len_v, depth_v)\n",
        "      máscara: tensor flutuante com formato transmitível\n",
        "            para (..., seq_len_q, seq_len_k). O padrão é None.\n",
        "\n",
        "    Retorna:\n",
        "      output, attention_weights\n",
        "    '''\n",
        "\n",
        "  matmul_qk = tf.matmul(q, k, transpose_b=True)  # (..., seq_len_q, seq_len_k)\n",
        "\n",
        "  # escala matmul_qk\n",
        "  dk = tf.cast(tf.shape(k)[-1], tf.float32)\n",
        "  scaled_attention_logits = matmul_qk / tf.math.sqrt(dk)\n",
        "\n",
        "  # adicione a máscara ao tensor escalado.\n",
        "  if mask is not None:\n",
        "    scaled_attention_logits += (mask * -1e9)\n",
        "\n",
        "  # softmax é normalizado no último eixo (seq_len k) de modo que as pontuações somam +1\n",
        "  attention_weights = tf.nn.softmax(scaled_attention_logits, axis=-1)  # (..., seq_len_q, seq_len_k)\n",
        "\n",
        "  output = tf.matmul(attention_weights, v)  # (..., seq_len_q, depth_v)\n",
        "\n",
        "  return output, attention_weights"
      ],
      "execution_count": null,
      "outputs": []
    },
    {
      "cell_type": "markdown",
      "metadata": {
        "id": "x4-jdWHRk_sy"
      },
      "source": [
        "Como a normalização softmax é feita em K, seus valores decidem a importância de Q.\n",
        "\n",
        "A saída representa a multiplicação dos pesos de atenção e o vetor V(valor).\n",
        "Com isso garantimentos que as palavras nais quais desejamos se concentrar sejam mantidas e as irrelevantes sejam eliminadas "
      ]
    },
    {
      "cell_type": "code",
      "metadata": {
        "id": "NV0ges0Xjk3-"
      },
      "source": [
        "def print_out(q, k, v):\n",
        "  temp_out, temp_attn = scaled_dot_product_attention(\n",
        "      q, k, v, None)\n",
        "  print('Os pesos de atenções são:')\n",
        "  print(temp_attn)\n",
        "  print('A saída é:')\n",
        "  print(temp_out)"
      ],
      "execution_count": null,
      "outputs": []
    },
    {
      "cell_type": "code",
      "metadata": {
        "colab": {
          "base_uri": "https://localhost:8080/"
        },
        "id": "LKnWLo4nlkgR",
        "outputId": "bb1fca63-d4ff-482a-f5e4-1c1f3fd8b3e7"
      },
      "source": [
        "np.set_printoptions(suppress=True)\n",
        "\n",
        "temp_k = tf.constant([[10, 0, 0],\n",
        "                      [0, 10, 0],\n",
        "                      [0, 0, 10],\n",
        "                      [0, 0, 10]], dtype=tf.float32)  # (4, 3)\n",
        "\n",
        "temp_v = tf.constant([[1, 0],\n",
        "                      [10, 0],\n",
        "                      [100, 5],\n",
        "                      [1000, 6]], dtype=tf.float32)  # (4, 2)\n",
        "\n",
        "# Essa `query` se alinha com a segunda `chave`,\n",
        "# para que o segundo valor seja retornado.\n",
        "temp_q = tf.constant([[0, 10, 0]], dtype=tf.float32)  # (1, 3)\n",
        "print_out(temp_q, temp_k, temp_v)"
      ],
      "execution_count": null,
      "outputs": [
        {
          "output_type": "stream",
          "text": [
            "Os pesos de atenções são:\n",
            "tf.Tensor([[0. 1. 0. 0.]], shape=(1, 4), dtype=float32)\n",
            "A saída é:\n",
            "tf.Tensor([[10.  0.]], shape=(1, 2), dtype=float32)\n"
          ],
          "name": "stdout"
        }
      ]
    },
    {
      "cell_type": "code",
      "metadata": {
        "colab": {
          "base_uri": "https://localhost:8080/"
        },
        "id": "7ORtVOxZl6sh",
        "outputId": "80f35f55-1aa0-4052-dc12-d2c1cde0443f"
      },
      "source": [
        "# Esta query se alinha com uma chave repetida (terceira e quarta),\n",
        "# para que todos os valores associados tenham a média.\n",
        "temp_q = tf.constant([[0, 0, 10]], dtype=tf.float32)  # (1, 3)\n",
        "print_out(temp_q, temp_k, temp_v)"
      ],
      "execution_count": null,
      "outputs": [
        {
          "output_type": "stream",
          "text": [
            "Os pesos de atenções são:\n",
            "tf.Tensor([[0.  0.  0.5 0.5]], shape=(1, 4), dtype=float32)\n",
            "A saída é:\n",
            "tf.Tensor([[550.    5.5]], shape=(1, 2), dtype=float32)\n"
          ],
          "name": "stdout"
        }
      ]
    },
    {
      "cell_type": "code",
      "metadata": {
        "colab": {
          "base_uri": "https://localhost:8080/"
        },
        "id": "9OTEHAxbohca",
        "outputId": "972c5a82-2830-478b-b5c9-22ceba97d83a"
      },
      "source": [
        "# Está query se alinha igualmente com a primeira e segunda chava,\n",
        "# para que sseus valores sejam calculados.\n",
        "temp_q = tf.constant([[10, 10, 0]], dtype=tf.float32)  # (1, 3)\n",
        "print_out(temp_q, temp_k, temp_v)"
      ],
      "execution_count": null,
      "outputs": [
        {
          "output_type": "stream",
          "text": [
            "Os pesos de atenções são:\n",
            "tf.Tensor([[0.5 0.5 0.  0. ]], shape=(1, 4), dtype=float32)\n",
            "A saída é:\n",
            "tf.Tensor([[5.5 0. ]], shape=(1, 2), dtype=float32)\n"
          ],
          "name": "stdout"
        }
      ]
    },
    {
      "cell_type": "code",
      "metadata": {
        "colab": {
          "base_uri": "https://localhost:8080/"
        },
        "id": "fBT4rB-MokZZ",
        "outputId": "871e2ff3-dc25-4caf-bbb4-4028161f7773"
      },
      "source": [
        "#Passando todas as queries juntas\n",
        "temp_q = tf.constant([[0, 0, 10],\n",
        "                      [0, 10, 0],\n",
        "                      [10, 10, 0]], dtype=tf.float32)  # (3, 3)\n",
        "print_out(temp_q, temp_k, temp_v)"
      ],
      "execution_count": null,
      "outputs": [
        {
          "output_type": "stream",
          "text": [
            "Os pesos de atenções são:\n",
            "tf.Tensor(\n",
            "[[0.  0.  0.5 0.5]\n",
            " [0.  1.  0.  0. ]\n",
            " [0.5 0.5 0.  0. ]], shape=(3, 4), dtype=float32)\n",
            "A saída é:\n",
            "tf.Tensor(\n",
            "[[550.    5.5]\n",
            " [ 10.    0. ]\n",
            " [  5.5   0. ]], shape=(3, 2), dtype=float32)\n"
          ],
          "name": "stdout"
        }
      ]
    },
    {
      "cell_type": "markdown",
      "metadata": {
        "id": "1medMxBzpBSg"
      },
      "source": [
        "## Função Atenção multi-cabeça\n",
        "\n",
        "A atenção de várias cabeças consiste em quatro partes:\n",
        "\n",
        "* Camadas lineares e divididas em cabeças.\n",
        "* Atenção ao produto escalado em escala.\n",
        "* Concatenação de cabeças.\n",
        "* Camada linear final.\n",
        "\n",
        "Cada bloco de atenção com várias cabeças recebe três entradas; Q (consulta), K (chave), V (valor). Eles são colocados em camadas lineares (densas) e divididos em várias cabeças."
      ]
    },
    {
      "cell_type": "code",
      "metadata": {
        "id": "bMtdxKItosIi"
      },
      "source": [
        "class MultiHeadAttention(tf.keras.layers.Layer):\n",
        "  def __init__(self, d_model, num_heads):\n",
        "    super(MultiHeadAttention, self).__init__()\n",
        "    self.num_heads = num_heads\n",
        "    self.d_model = d_model\n",
        "\n",
        "    assert d_model % self.num_heads == 0\n",
        "\n",
        "    self.depth = d_model // self.num_heads\n",
        "\n",
        "    self.wq = tf.keras.layers.Dense(d_model)\n",
        "    self.wk = tf.keras.layers.Dense(d_model)\n",
        "    self.wv = tf.keras.layers.Dense(d_model)\n",
        "\n",
        "    self.dense = tf.keras.layers.Dense(d_model)\n",
        "\n",
        "  def split_heads(self, x, batch_size):\n",
        "    \"\"\"Divide a última dimensão em (núm_heads, depth).\n",
        "     Transponha o resultado de forma que a forma seja (batch_size, num_heads, seq_len, depth)\n",
        "    \"\"\"\n",
        "    x = tf.reshape(x, (batch_size, -1, self.num_heads, self.depth))\n",
        "    return tf.transpose(x, perm=[0, 2, 1, 3])\n",
        "\n",
        "  def call(self, v, k, q, mask):\n",
        "    batch_size = tf.shape(q)[0]\n",
        "\n",
        "    q = self.wq(q)  # (batch_size, seq_len, d_model)\n",
        "    k = self.wk(k)  # (batch_size, seq_len, d_model)\n",
        "    v = self.wv(v)  # (batch_size, seq_len, d_model)\n",
        "\n",
        "    q = self.split_heads(q, batch_size)  # (batch_size, num_heads, seq_len_q, depth)\n",
        "    k = self.split_heads(k, batch_size)  # (batch_size, num_heads, seq_len_k, depth)\n",
        "    v = self.split_heads(v, batch_size)  # (batch_size, num_heads, seq_len_v, depth)\n",
        "\n",
        "    scaled_attention, attention_weights = scaled_dot_product_attention(\n",
        "        q, k, v, mask)\n",
        "\n",
        "    scaled_attention = tf.transpose(scaled_attention, perm=[0, 2, 1, 3])  # (batch_size, seq_len_q, num_heads, depth)\n",
        "\n",
        "    concat_attention = tf.reshape(scaled_attention,\n",
        "                                  (batch_size, -1, self.d_model))  # (batch_size, seq_len_q, d_model)\n",
        "\n",
        "    output = self.dense(concat_attention)  # (batch_size, seq_len_q, d_model)\n",
        "\n",
        "    return output, attention_weights"
      ],
      "execution_count": null,
      "outputs": []
    },
    {
      "cell_type": "markdown",
      "metadata": {
        "id": "tW_qd_LGrvyH"
      },
      "source": [
        "Criando uma camada MultiHeadAttention, temos que em cada loca da sequência, y, o MultiHeadAttention executa toda as 8 cabeças em todos os outros locais na sequência, retornando um novo vetor do mesmo comprimento local."
      ]
    },
    {
      "cell_type": "code",
      "metadata": {
        "colab": {
          "base_uri": "https://localhost:8080/"
        },
        "id": "87tDoZwZrvEL",
        "outputId": "e330dbf1-dd1b-458e-db40-5eca77ed84ec"
      },
      "source": [
        "temp_mha = MultiHeadAttention(d_model=512, num_heads=8)\n",
        "y = tf.random.uniform((1, 60, 512))  # (batch_size, encoder_sequence, d_model)\n",
        "out, attn = temp_mha(y, k=y, q=y, mask=None)\n",
        "out.shape, attn.shape"
      ],
      "execution_count": null,
      "outputs": [
        {
          "output_type": "execute_result",
          "data": {
            "text/plain": [
              "(TensorShape([1, 60, 512]), TensorShape([1, 8, 60, 60]))"
            ]
          },
          "metadata": {
            "tags": []
          },
          "execution_count": 30
        }
      ]
    },
    {
      "cell_type": "markdown",
      "metadata": {
        "id": "2c6SCdj9sIm5"
      },
      "source": [
        "## Função Rede de feed forward inteligente\n",
        "\n",
        "A rede de alimentação direta pontual em duas camadas totalmente conectadas com uma ativação ReLu entre elas"
      ]
    },
    {
      "cell_type": "code",
      "metadata": {
        "id": "cAmIialosHg5"
      },
      "source": [
        "def point_wise_feed_forward_network(d_model, dff):\n",
        "  return tf.keras.Sequential([\n",
        "      tf.keras.layers.Dense(dff, activation='relu'),  # (batch_size, seq_len, dff)\n",
        "      tf.keras.layers.Dense(d_model)  # (batch_size, seq_len, d_model)\n",
        "  ])"
      ],
      "execution_count": null,
      "outputs": []
    },
    {
      "cell_type": "code",
      "metadata": {
        "colab": {
          "base_uri": "https://localhost:8080/"
        },
        "id": "wiCnkyaDpcRQ",
        "outputId": "00be56c9-b674-43c9-e2cb-38b88c8956d4"
      },
      "source": [
        "sample_ffn = point_wise_feed_forward_network(512, 2048)\n",
        "sample_ffn(tf.random.uniform((64, 50, 512))).shape"
      ],
      "execution_count": null,
      "outputs": [
        {
          "output_type": "execute_result",
          "data": {
            "text/plain": [
              "TensorShape([64, 50, 512])"
            ]
          },
          "metadata": {
            "tags": []
          },
          "execution_count": 32
        }
      ]
    },
    {
      "cell_type": "markdown",
      "metadata": {
        "id": "opvRnrC1sfWq"
      },
      "source": [
        "## Criando o Codificador e Decodificador\n",
        "\n",
        "O modelo do transformador segue o mesmo padrão geral que o modelo de sequência padrão para sequência com atenção .\n",
        "\n",
        "* A sentença de entrada é passada por N camadas de codificador que geram uma saída para cada palavra / token na sequência.\n",
        "* O decodificador atende à saída do codificador e sua própria entrada (autoatenção) para prever a próxima palavra.\n",
        "\n",
        "### Camada codificadora\n",
        "Cada camada do codificador consiste em subcamadas:\n",
        "\n",
        "1. Atenção multi-cabeça (com máscara de preenchimento)\n",
        "2. Aponte redes de feed forward inteligentes.\n",
        "Cada uma dessas subcamadas tem uma conexão residual em torno dela seguida por uma normalização de camada. As conexões residuais ajudam a evitar o problema do gradiente de desaparecimento em redes profundas.\n",
        "\n",
        "A saída de cada subcamada é LayerNorm(x + Sublayer(x)) . A normalização é feita no eixo d_model (último). Existem N camadas de codificador no transformador."
      ]
    },
    {
      "cell_type": "code",
      "metadata": {
        "id": "V3x507tfscbb"
      },
      "source": [
        "class EncoderLayer(tf.keras.layers.Layer):\n",
        "  def __init__(self, d_model, num_heads, dff, rate=0.1):\n",
        "    super(EncoderLayer, self).__init__()\n",
        "\n",
        "    self.mha = MultiHeadAttention(d_model, num_heads)\n",
        "    self.ffn = point_wise_feed_forward_network(d_model, dff)\n",
        "\n",
        "    self.layernorm1 = tf.keras.layers.LayerNormalization(epsilon=1e-6)\n",
        "    self.layernorm2 = tf.keras.layers.LayerNormalization(epsilon=1e-6)\n",
        "\n",
        "    self.dropout1 = tf.keras.layers.Dropout(rate)\n",
        "    self.dropout2 = tf.keras.layers.Dropout(rate)\n",
        "\n",
        "  def call(self, x, training, mask):\n",
        "\n",
        "    attn_output, _ = self.mha(x, x, x, mask)  # (batch_size, input_seq_len, d_model)\n",
        "    attn_output = self.dropout1(attn_output, training=training)\n",
        "    out1 = self.layernorm1(x + attn_output)  # (batch_size, input_seq_len, d_model)\n",
        "\n",
        "    ffn_output = self.ffn(out1)  # (batch_size, input_seq_len, d_model)\n",
        "    ffn_output = self.dropout2(ffn_output, training=training)\n",
        "    out2 = self.layernorm2(out1 + ffn_output)  # (batch_size, input_seq_len, d_model)\n",
        "\n",
        "    return out2"
      ],
      "execution_count": null,
      "outputs": []
    },
    {
      "cell_type": "code",
      "metadata": {
        "colab": {
          "base_uri": "https://localhost:8080/"
        },
        "id": "XI-r41lqtFBg",
        "outputId": "2e5e7bba-8f24-43d6-bea1-8e3b159e7d42"
      },
      "source": [
        "sample_encoder_layer = EncoderLayer(512, 8, 2048)\n",
        "\n",
        "sample_encoder_layer_output = sample_encoder_layer(\n",
        "    tf.random.uniform((64, 43, 512)), False, None)\n",
        "\n",
        "sample_encoder_layer_output.shape  # (batch_size, input_seq_len, d_model)"
      ],
      "execution_count": null,
      "outputs": [
        {
          "output_type": "execute_result",
          "data": {
            "text/plain": [
              "TensorShape([64, 43, 512])"
            ]
          },
          "metadata": {
            "tags": []
          },
          "execution_count": 34
        }
      ]
    },
    {
      "cell_type": "markdown",
      "metadata": {
        "id": "8TvFMioruS7o"
      },
      "source": [
        "### Camada decodificadora\n",
        "\n",
        "Cada camada do decodificador consiste em subcamadas:\n",
        "\n",
        "1. Atenção de várias cabeças mascarada (com máscara de observação e máscara de preenchimento)\n",
        "2. Atenção multi-cabeça (com máscara de enchimento). V (valor) e K (chave) recebem a saída do codificador como entradas. Q (consulta) recebe a saída da subcamada de atenção com várias cabeças mascaradas.\n",
        "3. Aponte redes de feed forward inteligente\n",
        "\n",
        "Cada uma dessas subcamadas tem uma conexão residual em torno dela seguida por uma normalização de camada. A saída de cada subcamada é LayerNorm(x + Sublayer(x)) . A normalização é feita no eixo d_model (último).\n",
        "\n",
        "Existem N camadas de decodificador no transformador."
      ]
    },
    {
      "cell_type": "code",
      "metadata": {
        "id": "MAvMMbqNtLRB"
      },
      "source": [
        "class DecoderLayer(tf.keras.layers.Layer):\n",
        "  def __init__(self, d_model, num_heads, dff, rate=0.1):\n",
        "    super(DecoderLayer, self).__init__()\n",
        "\n",
        "    self.mha1 = MultiHeadAttention(d_model, num_heads)\n",
        "    self.mha2 = MultiHeadAttention(d_model, num_heads)\n",
        "\n",
        "    self.ffn = point_wise_feed_forward_network(d_model, dff)\n",
        "\n",
        "    self.layernorm1 = tf.keras.layers.LayerNormalization(epsilon=1e-6)\n",
        "    self.layernorm2 = tf.keras.layers.LayerNormalization(epsilon=1e-6)\n",
        "    self.layernorm3 = tf.keras.layers.LayerNormalization(epsilon=1e-6)\n",
        "\n",
        "    self.dropout1 = tf.keras.layers.Dropout(rate)\n",
        "    self.dropout2 = tf.keras.layers.Dropout(rate)\n",
        "    self.dropout3 = tf.keras.layers.Dropout(rate)\n",
        "\n",
        "  def call(self, x, enc_output, training,\n",
        "           look_ahead_mask, padding_mask):\n",
        "    # enc_output.shape == (batch_size, input_seq_len, d_model)\n",
        "\n",
        "    attn1, attn_weights_block1 = self.mha1(x, x, x, look_ahead_mask)  # (batch_size, target_seq_len, d_model)\n",
        "    attn1 = self.dropout1(attn1, training=training)\n",
        "    out1 = self.layernorm1(attn1 + x)\n",
        "\n",
        "    attn2, attn_weights_block2 = self.mha2(\n",
        "        enc_output, enc_output, out1, padding_mask)  # (batch_size, target_seq_len, d_model)\n",
        "    attn2 = self.dropout2(attn2, training=training)\n",
        "    out2 = self.layernorm2(attn2 + out1)  # (batch_size, target_seq_len, d_model)\n",
        "\n",
        "    ffn_output = self.ffn(out2)  # (batch_size, target_seq_len, d_model)\n",
        "    ffn_output = self.dropout3(ffn_output, training=training)\n",
        "    out3 = self.layernorm3(ffn_output + out2)  # (batch_size, target_seq_len, d_model)\n",
        "\n",
        "    return out3, attn_weights_block1, attn_weights_block2"
      ],
      "execution_count": null,
      "outputs": []
    },
    {
      "cell_type": "code",
      "metadata": {
        "colab": {
          "base_uri": "https://localhost:8080/"
        },
        "id": "D_pBuZv-umve",
        "outputId": "509d320f-18c2-43fe-9994-a2a54dd295ab"
      },
      "source": [
        "sample_decoder_layer = DecoderLayer(512, 8, 2048)\n",
        "\n",
        "sample_decoder_layer_output, _, _ = sample_decoder_layer(\n",
        "    tf.random.uniform((64, 50, 512)), sample_encoder_layer_output,\n",
        "    False, None, None)\n",
        "\n",
        "sample_decoder_layer_output.shape  # (batch_size, target_seq_len, d_model)"
      ],
      "execution_count": null,
      "outputs": [
        {
          "output_type": "execute_result",
          "data": {
            "text/plain": [
              "TensorShape([64, 50, 512])"
            ]
          },
          "metadata": {
            "tags": []
          },
          "execution_count": 36
        }
      ]
    },
    {
      "cell_type": "markdown",
      "metadata": {
        "id": "rPvSmtB-ur_s"
      },
      "source": [
        "### Codificador\n",
        "\n",
        "O Encoder consiste em:\n",
        "\n",
        "1. Incorporação de entrada\n",
        "2. Codificação Posicional\n",
        "3. N camadas codificadoras\n",
        "\n",
        "A entrada é submetida a uma incorporação que é somada à codificação posicional. A saída desse somatório é a entrada para as camadas do codificador. A saída do codificador é a entrada para o decodificador."
      ]
    },
    {
      "cell_type": "code",
      "metadata": {
        "id": "Tbcouv5qupVr"
      },
      "source": [
        "class Encoder(tf.keras.layers.Layer):\n",
        "  def __init__(self, num_layers, d_model, num_heads, dff, input_vocab_size,\n",
        "               maximum_position_encoding, rate=0.1):\n",
        "    super(Encoder, self).__init__()\n",
        "\n",
        "    self.d_model = d_model\n",
        "    self.num_layers = num_layers\n",
        "\n",
        "    self.embedding = tf.keras.layers.Embedding(input_vocab_size, d_model)\n",
        "    self.pos_encoding = positional_encoding(maximum_position_encoding,\n",
        "                                            self.d_model)\n",
        "\n",
        "    self.enc_layers = [EncoderLayer(d_model, num_heads, dff, rate)\n",
        "                       for _ in range(num_layers)]\n",
        "\n",
        "    self.dropout = tf.keras.layers.Dropout(rate)\n",
        "\n",
        "  def call(self, x, training, mask):\n",
        "\n",
        "    seq_len = tf.shape(x)[1]\n",
        "\n",
        "    # adding embedding and position encoding.\n",
        "    x = self.embedding(x)  # (batch_size, input_seq_len, d_model)\n",
        "    x *= tf.math.sqrt(tf.cast(self.d_model, tf.float32))\n",
        "    x += self.pos_encoding[:, :seq_len, :]\n",
        "\n",
        "    x = self.dropout(x, training=training)\n",
        "\n",
        "    for i in range(self.num_layers):\n",
        "      x = self.enc_layers[i](x, training, mask)\n",
        "\n",
        "    return x  # (batch_size, input_seq_len, d_model)"
      ],
      "execution_count": null,
      "outputs": []
    },
    {
      "cell_type": "code",
      "metadata": {
        "colab": {
          "base_uri": "https://localhost:8080/"
        },
        "id": "83waVOj0vDjF",
        "outputId": "504036ff-f09c-4793-e527-fc47a287b705"
      },
      "source": [
        "sample_encoder = Encoder(num_layers=2, d_model=512, num_heads=8,\n",
        "                         dff=2048, input_vocab_size=8500,\n",
        "                         maximum_position_encoding=10000)\n",
        "temp_input = tf.random.uniform((64, 62), dtype=tf.int64, minval=0, maxval=200)\n",
        "\n",
        "sample_encoder_output = sample_encoder(temp_input, training=False, mask=None)\n",
        "\n",
        "print(sample_encoder_output.shape)  # (batch_size, input_seq_len, d_model)"
      ],
      "execution_count": null,
      "outputs": [
        {
          "output_type": "stream",
          "text": [
            "(64, 62, 512)\n"
          ],
          "name": "stdout"
        }
      ]
    },
    {
      "cell_type": "markdown",
      "metadata": {
        "id": "119WIxDEv9bZ"
      },
      "source": [
        "### Decodificador\n",
        "\n",
        "O Decoder consiste em:\n",
        "\n",
        "1. Incorporação de saída\n",
        "2. Codificação Posicional\n",
        "3. N camadas de decodificador\n",
        "\n",
        "O destino é submetido a uma incorporação que se soma à codificação posicional. A saída desse somatório é a entrada para as camadas do decodificador. A saída do decodificador é a entrada para a camada linear final."
      ]
    },
    {
      "cell_type": "code",
      "metadata": {
        "id": "O7Y8H0PKvGdn"
      },
      "source": [
        "class Decoder(tf.keras.layers.Layer):\n",
        "  def __init__(self, num_layers, d_model, num_heads, dff, target_vocab_size,\n",
        "               maximum_position_encoding, rate=0.1):\n",
        "    super(Decoder, self).__init__()\n",
        "\n",
        "    self.d_model = d_model\n",
        "    self.num_layers = num_layers\n",
        "\n",
        "    self.embedding = tf.keras.layers.Embedding(target_vocab_size, d_model)\n",
        "    self.pos_encoding = positional_encoding(maximum_position_encoding, d_model)\n",
        "\n",
        "    self.dec_layers = [DecoderLayer(d_model, num_heads, dff, rate)\n",
        "                       for _ in range(num_layers)]\n",
        "    self.dropout = tf.keras.layers.Dropout(rate)\n",
        "\n",
        "  def call(self, x, enc_output, training,\n",
        "           look_ahead_mask, padding_mask):\n",
        "\n",
        "    seq_len = tf.shape(x)[1]\n",
        "    attention_weights = {}\n",
        "\n",
        "    x = self.embedding(x)  # (batch_size, target_seq_len, d_model)\n",
        "    x *= tf.math.sqrt(tf.cast(self.d_model, tf.float32))\n",
        "    x += self.pos_encoding[:, :seq_len, :]\n",
        "\n",
        "    x = self.dropout(x, training=training)\n",
        "\n",
        "    for i in range(self.num_layers):\n",
        "      x, block1, block2 = self.dec_layers[i](x, enc_output, training,\n",
        "                                             look_ahead_mask, padding_mask)\n",
        "\n",
        "      attention_weights[f'decoder_layer{i+1}_block1'] = block1\n",
        "      attention_weights[f'decoder_layer{i+1}_block2'] = block2\n",
        "\n",
        "    # x.shape == (batch_size, target_seq_len, d_model)\n",
        "    return x, attention_weights"
      ],
      "execution_count": null,
      "outputs": []
    },
    {
      "cell_type": "code",
      "metadata": {
        "colab": {
          "base_uri": "https://localhost:8080/"
        },
        "id": "WKhDR7WCwPpb",
        "outputId": "3cc34f29-b0df-4734-82ee-c13e5514dbc2"
      },
      "source": [
        "sample_decoder = Decoder(num_layers=2, d_model=512, num_heads=8,\n",
        "                         dff=2048, target_vocab_size=8000,\n",
        "                         maximum_position_encoding=5000)\n",
        "temp_input = tf.random.uniform((64, 26), dtype=tf.int64, minval=0, maxval=200)\n",
        "\n",
        "output, attn = sample_decoder(temp_input,\n",
        "                              enc_output=sample_encoder_output,\n",
        "                              training=False,\n",
        "                              look_ahead_mask=None,\n",
        "                              padding_mask=None)\n",
        "\n",
        "output.shape, attn['decoder_layer2_block2'].shape"
      ],
      "execution_count": null,
      "outputs": [
        {
          "output_type": "execute_result",
          "data": {
            "text/plain": [
              "(TensorShape([64, 26, 512]), TensorShape([64, 8, 26, 62]))"
            ]
          },
          "metadata": {
            "tags": []
          },
          "execution_count": 40
        }
      ]
    },
    {
      "cell_type": "markdown",
      "metadata": {
        "id": "qjbapUkxwU7K"
      },
      "source": [
        "## Transformer\n",
        "\n",
        "Agora podemos focar na principal implementação do problema, Transformer.\n",
        "\n",
        "O Transformer consiste no condificador, decodificador e uma camada linear final. A saída do decodificador é a entrada para a camada linear e sua saída é retornada. "
      ]
    },
    {
      "cell_type": "code",
      "metadata": {
        "id": "d1k7PLFnwSJA"
      },
      "source": [
        "class Transformer(tf.keras.Model):\n",
        "  def __init__(self, num_layers, d_model, num_heads, dff, input_vocab_size,\n",
        "               target_vocab_size, pe_input, pe_target, rate=0.1):\n",
        "    super(Transformer, self).__init__()\n",
        "\n",
        "    self.tokenizer = Encoder(num_layers, d_model, num_heads, dff,\n",
        "                             input_vocab_size, pe_input, rate)\n",
        "\n",
        "    self.decoder = Decoder(num_layers, d_model, num_heads, dff,\n",
        "                           target_vocab_size, pe_target, rate)\n",
        "\n",
        "    self.final_layer = tf.keras.layers.Dense(target_vocab_size)\n",
        "\n",
        "  def call(self, inp, tar, training, enc_padding_mask,\n",
        "           look_ahead_mask, dec_padding_mask):\n",
        "\n",
        "    enc_output = self.tokenizer(inp, training, enc_padding_mask)  # (batch_size, inp_seq_len, d_model)\n",
        "\n",
        "    # dec_output.shape == (batch_size, tar_seq_len, d_model)\n",
        "    dec_output, attention_weights = self.decoder(\n",
        "        tar, enc_output, training, look_ahead_mask, dec_padding_mask)\n",
        "\n",
        "    final_output = self.final_layer(dec_output)  # (batch_size, tar_seq_len, target_vocab_size)\n",
        "\n",
        "    return final_output, attention_weights"
      ],
      "execution_count": null,
      "outputs": []
    },
    {
      "cell_type": "code",
      "metadata": {
        "colab": {
          "base_uri": "https://localhost:8080/"
        },
        "id": "VmdKqvutw8nc",
        "outputId": "216116c5-46db-4b25-f783-71cbca191aa2"
      },
      "source": [
        "sample_transformer = Transformer(\n",
        "    num_layers=2, d_model=512, num_heads=8, dff=2048,\n",
        "    input_vocab_size=8500, target_vocab_size=8000,\n",
        "    pe_input=10000, pe_target=6000)\n",
        "\n",
        "temp_input = tf.random.uniform((64, 38), dtype=tf.int64, minval=0, maxval=200)\n",
        "temp_target = tf.random.uniform((64, 36), dtype=tf.int64, minval=0, maxval=200)\n",
        "\n",
        "fn_out, _ = sample_transformer(temp_input, temp_target, training=False,\n",
        "                               enc_padding_mask=None,\n",
        "                               look_ahead_mask=None,\n",
        "                               dec_padding_mask=None)\n",
        "\n",
        "fn_out.shape  # (batch_size, tar_seq_len, target_vocab_size)"
      ],
      "execution_count": null,
      "outputs": [
        {
          "output_type": "execute_result",
          "data": {
            "text/plain": [
              "TensorShape([64, 36, 8000])"
            ]
          },
          "metadata": {
            "tags": []
          },
          "execution_count": 42
        }
      ]
    },
    {
      "cell_type": "code",
      "metadata": {
        "id": "MsRvFAKzw_Ux"
      },
      "source": [
        "# Hiperparâmtros que serão utilizados\n",
        "num_layers = 4\n",
        "d_model = 128\n",
        "dff = 512\n",
        "num_heads = 8\n",
        "dropout_rate = 0.1"
      ],
      "execution_count": null,
      "outputs": []
    },
    {
      "cell_type": "markdown",
      "metadata": {
        "id": "VmezjmvSxURc"
      },
      "source": [
        "## Otimizador\n",
        "\n",
        "Usaremos o otimizador Adam com um programador de taxa de aprendizagem personalizado. "
      ]
    },
    {
      "cell_type": "code",
      "metadata": {
        "id": "5K7OYg-rxRyd"
      },
      "source": [
        "class CustomSchedule(tf.keras.optimizers.schedules.LearningRateSchedule):\n",
        "  def __init__(self, d_model, warmup_steps=4000):\n",
        "    super(CustomSchedule, self).__init__()\n",
        "\n",
        "    self.d_model = d_model\n",
        "    self.d_model = tf.cast(self.d_model, tf.float32)\n",
        "\n",
        "    self.warmup_steps = warmup_steps\n",
        "\n",
        "  def __call__(self, step):\n",
        "    arg1 = tf.math.rsqrt(step)\n",
        "    arg2 = step * (self.warmup_steps ** -1.5)\n",
        "\n",
        "    return tf.math.rsqrt(self.d_model) * tf.math.minimum(arg1, arg2)"
      ],
      "execution_count": null,
      "outputs": []
    },
    {
      "cell_type": "code",
      "metadata": {
        "id": "QD-S6XiyxkFx"
      },
      "source": [
        "learning_rate = CustomSchedule(d_model)\n",
        "\n",
        "optimizer = tf.keras.optimizers.Adam(learning_rate, beta_1=0.9, beta_2=0.98,\n",
        "                                     epsilon=1e-9)"
      ],
      "execution_count": null,
      "outputs": []
    },
    {
      "cell_type": "code",
      "metadata": {
        "colab": {
          "base_uri": "https://localhost:8080/",
          "height": 296
        },
        "id": "AphTq8i-xlu0",
        "outputId": "128f6acf-da0f-4565-f60e-ed52a2fbb3c4"
      },
      "source": [
        "temp_learning_rate_schedule = CustomSchedule(d_model)\n",
        "\n",
        "plt.plot(temp_learning_rate_schedule(tf.range(40000, dtype=tf.float32)))\n",
        "plt.ylabel(\"Taxa de aprensizagem\")\n",
        "plt.xlabel(\"Passos\")"
      ],
      "execution_count": null,
      "outputs": [
        {
          "output_type": "execute_result",
          "data": {
            "text/plain": [
              "Text(0.5, 0, 'Passos')"
            ]
          },
          "metadata": {
            "tags": []
          },
          "execution_count": 46
        },
        {
          "output_type": "display_data",
          "data": {
            "image/png": "[encoded data removed]",
            "text/plain": [
              "<Figure size 432x288 with 1 Axes>"
            ]
          },
          "metadata": {
            "tags": [],
            "needs_background": "light"
          }
        }
      ]
    },
    {
      "cell_type": "markdown",
      "metadata": {
        "id": "p867-vnTx3dw"
      },
      "source": [
        "## Loss Functions e Métricas\n",
        "\n",
        "Como as sequências de destino são preenchidas, é importante uma máscara de preenchimento ao calcular a perda. "
      ]
    },
    {
      "cell_type": "code",
      "metadata": {
        "id": "BLf7XyCixvQG"
      },
      "source": [
        "loss_object = tf.keras.losses.SparseCategoricalCrossentropy(\n",
        "    from_logits=True, reduction='none')"
      ],
      "execution_count": null,
      "outputs": []
    },
    {
      "cell_type": "code",
      "metadata": {
        "id": "ttCpXXnEyH4z"
      },
      "source": [
        "def loss_function(real, pred):\n",
        "  mask = tf.math.logical_not(tf.math.equal(real, 0))\n",
        "  loss_ = loss_object(real, pred)\n",
        "\n",
        "  mask = tf.cast(mask, dtype=loss_.dtype)\n",
        "  loss_ *= mask\n",
        "\n",
        "  return tf.reduce_sum(loss_)/tf.reduce_sum(mask)\n",
        "\n",
        "\n",
        "def accuracy_function(real, pred):\n",
        "  accuracies = tf.equal(real, tf.argmax(pred, axis=2))\n",
        "\n",
        "  mask = tf.math.logical_not(tf.math.equal(real, 0))\n",
        "  accuracies = tf.math.logical_and(mask, accuracies)\n",
        "\n",
        "  accuracies = tf.cast(accuracies, dtype=tf.float32)\n",
        "  mask = tf.cast(mask, dtype=tf.float32)\n",
        "  return tf.reduce_sum(accuracies)/tf.reduce_sum(mask)"
      ],
      "execution_count": null,
      "outputs": []
    },
    {
      "cell_type": "code",
      "metadata": {
        "id": "NOfJqmRsyKSd"
      },
      "source": [
        "train_loss = tf.keras.metrics.Mean(name='Perda')\n",
        "train_accuracy = tf.keras.metrics.Mean(name='acurácia')"
      ],
      "execution_count": null,
      "outputs": []
    },
    {
      "cell_type": "code",
      "metadata": {
        "id": "4K6yUxibySVG"
      },
      "source": [
        "# Treinamento\n",
        "\n",
        "transformer = Transformer(\n",
        "    num_layers=num_layers,\n",
        "    d_model=d_model,\n",
        "    num_heads=num_heads,\n",
        "    dff=dff,\n",
        "    input_vocab_size=tokenizers.pt.get_vocab_size(),\n",
        "    target_vocab_size=tokenizers.en.get_vocab_size(),\n",
        "    pe_input=1000,\n",
        "    pe_target=1000,\n",
        "    rate=dropout_rate)"
      ],
      "execution_count": null,
      "outputs": []
    },
    {
      "cell_type": "code",
      "metadata": {
        "id": "h2GQt7EuyYSZ"
      },
      "source": [
        "def create_masks(inp, tar):\n",
        "  # Encoder padding mask\n",
        "  enc_padding_mask = create_padding_mask(inp)\n",
        "\n",
        "  # Used in the 2nd attention block in the decoder.\n",
        "  # This padding mask is used to mask the encoder outputs.\n",
        "  dec_padding_mask = create_padding_mask(inp)\n",
        "\n",
        "  # Used in the 1st attention block in the decoder.\n",
        "  # It is used to pad and mask future tokens in the input received by\n",
        "  # the decoder.\n",
        "  look_ahead_mask = create_look_ahead_mask(tf.shape(tar)[1])\n",
        "  dec_target_padding_mask = create_padding_mask(tar)\n",
        "  combined_mask = tf.maximum(dec_target_padding_mask, look_ahead_mask)\n",
        "\n",
        "  return enc_padding_mask, combined_mask, dec_padding_mask"
      ],
      "execution_count": null,
      "outputs": []
    },
    {
      "cell_type": "code",
      "metadata": {
        "id": "pNjeHRdGybCc"
      },
      "source": [
        "# salvando pontos de verificação a cada n épocas.\n",
        "\n",
        "checkpoint_path = \"./checkpoints/train\"\n",
        "\n",
        "ckpt = tf.train.Checkpoint(transformer=transformer,\n",
        "                           optimizer=optimizer)\n",
        "\n",
        "ckpt_manager = tf.train.CheckpointManager(ckpt, checkpoint_path, max_to_keep=5)\n",
        "\n",
        "# Se existir um ponto de redificação, restaura o ponto de verificação mais recente.\n",
        "if ckpt_manager.latest_checkpoint:\n",
        "  ckpt.restore(ckpt_manager.latest_checkpoint)\n",
        "  print('Último checkpoint restaurando, aheee!!')"
      ],
      "execution_count": null,
      "outputs": []
    },
    {
      "cell_type": "code",
      "metadata": {
        "id": "5kmm78hizygX"
      },
      "source": [
        "# números de Epochs\n",
        "EPOCHS = 20"
      ],
      "execution_count": null,
      "outputs": []
    },
    {
      "cell_type": "code",
      "metadata": {
        "id": "lwUfiDBNz6Mu"
      },
      "source": [
        "# O @tf.function trace-compiles train_step em um g´rafico TF para mais rápido \n",
        "# execução. A função é especializada na forma precisa do argumento\n",
        "# tensores. Para evitar o novo rastreamento devido aos comprimentos de sequência variáveis ou variáveis\n",
        "# tamanhos de lote (o último lote é menor), use input_signature para especificar\n",
        "# formas mais genéricas.\n",
        "\n",
        "train_step_signature = [\n",
        "    tf.TensorSpec(shape=(None, None), dtype=tf.int64),\n",
        "    tf.TensorSpec(shape=(None, None), dtype=tf.int64),\n",
        "]\n",
        "\n",
        "\n",
        "@tf.function(input_signature=train_step_signature)\n",
        "def train_step(inp, tar):\n",
        "  tar_inp = tar[:, :-1]\n",
        "  tar_real = tar[:, 1:]\n",
        "\n",
        "  enc_padding_mask, combined_mask, dec_padding_mask = create_masks(inp, tar_inp)\n",
        "\n",
        "  with tf.GradientTape() as tape:\n",
        "    predictions, _ = transformer(inp, tar_inp,\n",
        "                                 True,\n",
        "                                 enc_padding_mask,\n",
        "                                 combined_mask,\n",
        "                                 dec_padding_mask)\n",
        "    loss = loss_function(tar_real, predictions)\n",
        "\n",
        "  gradients = tape.gradient(loss, transformer.trainable_variables)\n",
        "  optimizer.apply_gradients(zip(gradients, transformer.trainable_variables))\n",
        "\n",
        "  train_loss(loss)\n",
        "  train_accuracy(accuracy_function(tar_real, predictions))"
      ],
      "execution_count": null,
      "outputs": []
    },
    {
      "cell_type": "markdown",
      "metadata": {
        "id": "h647t8Hm1PgQ"
      },
      "source": [
        "Utilizaremos o português como idiotma de entrada e o inglês como saída. \n",
        "\n",
        "Hora de treinar o modelo e ir tomar um café!!\n"
      ]
    },
    {
      "cell_type": "code",
      "metadata": {
        "colab": {
          "base_uri": "https://localhost:8080/"
        },
        "id": "8jjAQKCT0gx9",
        "outputId": "9ae7f05a-36ea-4ce6-b160-086f3b103bed"
      },
      "source": [
        "for epoch in range(EPOCHS):\n",
        "  start = time.time()\n",
        "\n",
        "  train_loss.reset_states()\n",
        "  train_accuracy.reset_states()\n",
        "\n",
        "  # inp -> português, tar -> Inglês\n",
        "  for (batch, (inp, tar)) in enumerate(train_batches):\n",
        "    train_step(inp, tar)\n",
        "\n",
        "    if batch % 50 == 0:\n",
        "      print(f'Epoch {epoch + 1} Batch {batch} Perda {train_loss.result():.4f} Acurácia {train_accuracy.result():.4f}')\n",
        "\n",
        "  if (epoch + 1) % 5 == 0:\n",
        "    ckpt_save_path = ckpt_manager.save()\n",
        "    print(f'Saving checkpoint for epoch {epoch+1} at {ckpt_save_path}')\n",
        "\n",
        "  print(f'Epoch {epoch + 1} Perda {train_loss.result():.4f} Acurácia {train_accuracy.result():.4f}')\n",
        "\n",
        "  print(f'Tempo para exercutar 1 epoch: {time.time() - start:.2f} secs\\n')"
      ],
      "execution_count": null,
      "outputs": [
        {
          "output_type": "stream",
          "text": [
            "Epoch 1 Batch 0 Perda 8.8783 Acurácia 0.0000\n",
            "Epoch 1 Batch 50 Perda 8.8130 Acurácia 0.0004\n",
            "Epoch 1 Batch 100 Perda 8.7115 Acurácia 0.0207\n",
            "Epoch 1 Batch 150 Perda 8.5990 Acurácia 0.0317\n",
            "Epoch 1 Batch 200 Perda 8.4602 Acurácia 0.0370\n",
            "Epoch 1 Batch 250 Perda 8.2921 Acurácia 0.0412\n",
            "Epoch 1 Batch 300 Perda 8.1017 Acurácia 0.0459\n",
            "Epoch 1 Batch 350 Perda 7.9046 Acurácia 0.0544\n",
            "Epoch 1 Batch 400 Perda 7.7154 Acurácia 0.0626\n",
            "Epoch 1 Batch 450 Perda 7.5467 Acurácia 0.0701\n",
            "Epoch 1 Batch 500 Perda 7.3976 Acurácia 0.0774\n",
            "Epoch 1 Batch 550 Perda 7.2622 Acurácia 0.0848\n",
            "Epoch 1 Batch 600 Perda 7.1343 Acurácia 0.0927\n",
            "Epoch 1 Batch 650 Perda 7.0151 Acurácia 0.1000\n",
            "Epoch 1 Batch 700 Perda 6.9044 Acurácia 0.1070\n",
            "Epoch 1 Batch 750 Perda 6.8031 Acurácia 0.1132\n",
            "Epoch 1 Batch 800 Perda 6.7085 Acurácia 0.1193\n",
            "Epoch 1 Perda 6.6922 Acurácia 0.1204\n",
            "Tempo para exercutar 1 epoch: 115.08 secs\n",
            "\n",
            "Epoch 2 Batch 0 Perda 5.4740 Acurácia 0.1949\n",
            "Epoch 2 Batch 50 Perda 5.2388 Acurácia 0.2136\n",
            "Epoch 2 Batch 100 Perda 5.1879 Acurácia 0.2188\n",
            "Epoch 2 Batch 150 Perda 5.1645 Acurácia 0.2218\n",
            "Epoch 2 Batch 200 Perda 5.1310 Acurácia 0.2252\n",
            "Epoch 2 Batch 250 Perda 5.1011 Acurácia 0.2277\n",
            "Epoch 2 Batch 300 Perda 5.0826 Acurácia 0.2293\n",
            "Epoch 2 Batch 350 Perda 5.0570 Acurácia 0.2319\n",
            "Epoch 2 Batch 400 Perda 5.0334 Acurácia 0.2341\n",
            "Epoch 2 Batch 450 Perda 5.0103 Acurácia 0.2363\n",
            "Epoch 2 Batch 500 Perda 4.9909 Acurácia 0.2381\n",
            "Epoch 2 Batch 550 Perda 4.9741 Acurácia 0.2394\n",
            "Epoch 2 Batch 600 Perda 4.9564 Acurácia 0.2409\n",
            "Epoch 2 Batch 650 Perda 4.9361 Acurácia 0.2426\n",
            "Epoch 2 Batch 700 Perda 4.9203 Acurácia 0.2440\n",
            "Epoch 2 Batch 750 Perda 4.9043 Acurácia 0.2455\n",
            "Epoch 2 Batch 800 Perda 4.8873 Acurácia 0.2472\n",
            "Epoch 2 Perda 4.8853 Acurácia 0.2472\n",
            "Tempo para exercutar 1 epoch: 102.60 secs\n",
            "\n",
            "Epoch 3 Batch 0 Perda 4.5848 Acurácia 0.2716\n",
            "Epoch 3 Batch 50 Perda 4.5758 Acurácia 0.2754\n",
            "Epoch 3 Batch 100 Perda 4.5687 Acurácia 0.2747\n",
            "Epoch 3 Batch 150 Perda 4.5609 Acurácia 0.2744\n",
            "Epoch 3 Batch 200 Perda 4.5448 Acurácia 0.2764\n",
            "Epoch 3 Batch 250 Perda 4.5351 Acurácia 0.2775\n",
            "Epoch 3 Batch 300 Perda 4.5310 Acurácia 0.2775\n",
            "Epoch 3 Batch 350 Perda 4.5237 Acurácia 0.2779\n",
            "Epoch 3 Batch 400 Perda 4.5135 Acurácia 0.2791\n",
            "Epoch 3 Batch 450 Perda 4.4991 Acurácia 0.2805\n",
            "Epoch 3 Batch 500 Perda 4.4861 Acurácia 0.2818\n",
            "Epoch 3 Batch 550 Perda 4.4732 Acurácia 0.2834\n",
            "Epoch 3 Batch 600 Perda 4.4589 Acurácia 0.2851\n",
            "Epoch 3 Batch 650 Perda 4.4447 Acurácia 0.2867\n",
            "Epoch 3 Batch 700 Perda 4.4317 Acurácia 0.2882\n",
            "Epoch 3 Batch 750 Perda 4.4170 Acurácia 0.2900\n",
            "Epoch 3 Batch 800 Perda 4.4027 Acurácia 0.2917\n",
            "Epoch 3 Perda 4.3989 Acurácia 0.2921\n",
            "Tempo para exercutar 1 epoch: 102.44 secs\n",
            "\n",
            "Epoch 4 Batch 0 Perda 3.9952 Acurácia 0.3272\n",
            "Epoch 4 Batch 50 Perda 4.1005 Acurácia 0.3230\n",
            "Epoch 4 Batch 100 Perda 4.0816 Acurácia 0.3277\n",
            "Epoch 4 Batch 150 Perda 4.0567 Acurácia 0.3304\n",
            "Epoch 4 Batch 200 Perda 4.0393 Acurácia 0.3329\n",
            "Epoch 4 Batch 250 Perda 4.0239 Acurácia 0.3355\n",
            "Epoch 4 Batch 300 Perda 4.0089 Acurácia 0.3376\n",
            "Epoch 4 Batch 350 Perda 3.9937 Acurácia 0.3396\n",
            "Epoch 4 Batch 400 Perda 3.9721 Acurácia 0.3424\n",
            "Epoch 4 Batch 450 Perda 3.9564 Acurácia 0.3446\n",
            "Epoch 4 Batch 500 Perda 3.9416 Acurácia 0.3465\n",
            "Epoch 4 Batch 550 Perda 3.9295 Acurácia 0.3481\n",
            "Epoch 4 Batch 600 Perda 3.9172 Acurácia 0.3499\n",
            "Epoch 4 Batch 650 Perda 3.8993 Acurácia 0.3522\n",
            "Epoch 4 Batch 700 Perda 3.8855 Acurácia 0.3540\n",
            "Epoch 4 Batch 750 Perda 3.8701 Acurácia 0.3559\n",
            "Epoch 4 Batch 800 Perda 3.8554 Acurácia 0.3579\n",
            "Epoch 4 Perda 3.8526 Acurácia 0.3583\n",
            "Tempo para exercutar 1 epoch: 101.82 secs\n",
            "\n",
            "Epoch 5 Batch 0 Perda 3.8095 Acurácia 0.3607\n",
            "Epoch 5 Batch 50 Perda 3.5712 Acurácia 0.3900\n",
            "Epoch 5 Batch 100 Perda 3.5448 Acurácia 0.3929\n",
            "Epoch 5 Batch 150 Perda 3.5313 Acurácia 0.3958\n",
            "Epoch 5 Batch 200 Perda 3.5103 Acurácia 0.3992\n",
            "Epoch 5 Batch 250 Perda 3.5019 Acurácia 0.4005\n",
            "Epoch 5 Batch 300 Perda 3.4916 Acurácia 0.4018\n",
            "Epoch 5 Batch 350 Perda 3.4836 Acurácia 0.4033\n",
            "Epoch 5 Batch 400 Perda 3.4731 Acurácia 0.4045\n",
            "Epoch 5 Batch 450 Perda 3.4597 Acurácia 0.4061\n",
            "Epoch 5 Batch 500 Perda 3.4505 Acurácia 0.4074\n",
            "Epoch 5 Batch 550 Perda 3.4386 Acurácia 0.4090\n",
            "Epoch 5 Batch 600 Perda 3.4289 Acurácia 0.4101\n",
            "Epoch 5 Batch 650 Perda 3.4207 Acurácia 0.4111\n",
            "Epoch 5 Batch 700 Perda 3.4096 Acurácia 0.4124\n",
            "Epoch 5 Batch 750 Perda 3.4001 Acurácia 0.4137\n",
            "Epoch 5 Batch 800 Perda 3.3893 Acurácia 0.4150\n",
            "Saving checkpoint for epoch 5 at ./checkpoints/train/ckpt-1\n",
            "Epoch 5 Perda 3.3873 Acurácia 0.4152\n",
            "Tempo para exercutar 1 epoch: 102.15 secs\n",
            "\n",
            "Epoch 6 Batch 0 Perda 3.2140 Acurácia 0.4289\n",
            "Epoch 6 Batch 50 Perda 3.1243 Acurácia 0.4442\n",
            "Epoch 6 Batch 100 Perda 3.1151 Acurácia 0.4459\n",
            "Epoch 6 Batch 150 Perda 3.0812 Acurácia 0.4498\n",
            "Epoch 6 Batch 200 Perda 3.0746 Acurácia 0.4513\n",
            "Epoch 6 Batch 250 Perda 3.0741 Acurácia 0.4518\n",
            "Epoch 6 Batch 300 Perda 3.0709 Acurácia 0.4523\n",
            "Epoch 6 Batch 350 Perda 3.0645 Acurácia 0.4532\n",
            "Epoch 6 Batch 400 Perda 3.0526 Acurácia 0.4549\n",
            "Epoch 6 Batch 450 Perda 3.0409 Acurácia 0.4566\n",
            "Epoch 6 Batch 500 Perda 3.0338 Acurácia 0.4576\n",
            "Epoch 6 Batch 550 Perda 3.0194 Acurácia 0.4599\n",
            "Epoch 6 Batch 600 Perda 3.0146 Acurácia 0.4606\n",
            "Epoch 6 Batch 650 Perda 3.0069 Acurácia 0.4617\n",
            "Epoch 6 Batch 700 Perda 2.9985 Acurácia 0.4630\n",
            "Epoch 6 Batch 750 Perda 2.9917 Acurácia 0.4640\n",
            "Epoch 6 Batch 800 Perda 2.9828 Acurácia 0.4653\n",
            "Epoch 6 Perda 2.9815 Acurácia 0.4655\n",
            "Tempo para exercutar 1 epoch: 101.88 secs\n",
            "\n",
            "Epoch 7 Batch 0 Perda 2.6479 Acurácia 0.5021\n",
            "Epoch 7 Batch 50 Perda 2.7153 Acurácia 0.4988\n",
            "Epoch 7 Batch 100 Perda 2.7297 Acurácia 0.4958\n",
            "Epoch 7 Batch 150 Perda 2.7173 Acurácia 0.4972\n",
            "Epoch 7 Batch 200 Perda 2.7126 Acurácia 0.4973\n",
            "Epoch 7 Batch 250 Perda 2.7045 Acurácia 0.4989\n",
            "Epoch 7 Batch 300 Perda 2.7009 Acurácia 0.4997\n",
            "Epoch 7 Batch 350 Perda 2.6893 Acurácia 0.5017\n",
            "Epoch 7 Batch 400 Perda 2.6873 Acurácia 0.5020\n",
            "Epoch 7 Batch 450 Perda 2.6780 Acurácia 0.5036\n",
            "Epoch 7 Batch 500 Perda 2.6760 Acurácia 0.5041\n",
            "Epoch 7 Batch 550 Perda 2.6665 Acurácia 0.5056\n",
            "Epoch 7 Batch 600 Perda 2.6626 Acurácia 0.5061\n",
            "Epoch 7 Batch 650 Perda 2.6551 Acurácia 0.5073\n",
            "Epoch 7 Batch 700 Perda 2.6507 Acurácia 0.5078\n",
            "Epoch 7 Batch 750 Perda 2.6466 Acurácia 0.5086\n",
            "Epoch 7 Batch 800 Perda 2.6446 Acurácia 0.5090\n",
            "Epoch 7 Perda 2.6444 Acurácia 0.5090\n",
            "Tempo para exercutar 1 epoch: 102.39 secs\n",
            "\n",
            "Epoch 8 Batch 0 Perda 2.3635 Acurácia 0.5438\n",
            "Epoch 8 Batch 50 Perda 2.4466 Acurácia 0.5330\n",
            "Epoch 8 Batch 100 Perda 2.4475 Acurácia 0.5332\n",
            "Epoch 8 Batch 150 Perda 2.4385 Acurácia 0.5347\n",
            "Epoch 8 Batch 200 Perda 2.4388 Acurácia 0.5349\n",
            "Epoch 8 Batch 250 Perda 2.4406 Acurácia 0.5348\n",
            "Epoch 8 Batch 300 Perda 2.4328 Acurácia 0.5359\n",
            "Epoch 8 Batch 350 Perda 2.4306 Acurácia 0.5361\n",
            "Epoch 8 Batch 400 Perda 2.4215 Acurácia 0.5373\n",
            "Epoch 8 Batch 450 Perda 2.4192 Acurácia 0.5378\n",
            "Epoch 8 Batch 500 Perda 2.4155 Acurácia 0.5384\n",
            "Epoch 8 Batch 550 Perda 2.4158 Acurácia 0.5384\n",
            "Epoch 8 Batch 600 Perda 2.4149 Acurácia 0.5386\n",
            "Epoch 8 Batch 650 Perda 2.4117 Acurácia 0.5393\n",
            "Epoch 8 Batch 700 Perda 2.4104 Acurácia 0.5396\n",
            "Epoch 8 Batch 750 Perda 2.4100 Acurácia 0.5398\n",
            "Epoch 8 Batch 800 Perda 2.4067 Acurácia 0.5404\n",
            "Epoch 8 Perda 2.4064 Acurácia 0.5405\n",
            "Tempo para exercutar 1 epoch: 101.57 secs\n",
            "\n",
            "Epoch 9 Batch 0 Perda 2.3880 Acurácia 0.5394\n",
            "Epoch 9 Batch 50 Perda 2.2198 Acurácia 0.5641\n",
            "Epoch 9 Batch 100 Perda 2.2260 Acurácia 0.5631\n",
            "Epoch 9 Batch 150 Perda 2.2320 Acurácia 0.5628\n",
            "Epoch 9 Batch 200 Perda 2.2260 Acurácia 0.5636\n",
            "Epoch 9 Batch 250 Perda 2.2284 Acurácia 0.5633\n",
            "Epoch 9 Batch 300 Perda 2.2290 Acurácia 0.5631\n",
            "Epoch 9 Batch 350 Perda 2.2294 Acurácia 0.5631\n",
            "Epoch 9 Batch 400 Perda 2.2325 Acurácia 0.5627\n",
            "Epoch 9 Batch 450 Perda 2.2334 Acurácia 0.5631\n",
            "Epoch 9 Batch 500 Perda 2.2308 Acurácia 0.5635\n",
            "Epoch 9 Batch 550 Perda 2.2291 Acurácia 0.5639\n",
            "Epoch 9 Batch 600 Perda 2.2289 Acurácia 0.5642\n",
            "Epoch 9 Batch 650 Perda 2.2267 Acurácia 0.5646\n",
            "Epoch 9 Batch 700 Perda 2.2269 Acurácia 0.5647\n",
            "Epoch 9 Batch 750 Perda 2.2283 Acurácia 0.5646\n",
            "Epoch 9 Batch 800 Perda 2.2301 Acurácia 0.5644\n",
            "Epoch 9 Perda 2.2287 Acurácia 0.5647\n",
            "Tempo para exercutar 1 epoch: 101.74 secs\n",
            "\n",
            "Epoch 10 Batch 0 Perda 2.2146 Acurácia 0.5715\n",
            "Epoch 10 Batch 50 Perda 2.1007 Acurácia 0.5823\n",
            "Epoch 10 Batch 100 Perda 2.0763 Acurácia 0.5854\n",
            "Epoch 10 Batch 150 Perda 2.0776 Acurácia 0.5855\n",
            "Epoch 10 Batch 200 Perda 2.0784 Acurácia 0.5852\n",
            "Epoch 10 Batch 250 Perda 2.0775 Acurácia 0.5854\n",
            "Epoch 10 Batch 300 Perda 2.0775 Acurácia 0.5852\n",
            "Epoch 10 Batch 350 Perda 2.0766 Acurácia 0.5856\n",
            "Epoch 10 Batch 400 Perda 2.0738 Acurácia 0.5860\n",
            "Epoch 10 Batch 450 Perda 2.0752 Acurácia 0.5858\n",
            "Epoch 10 Batch 500 Perda 2.0789 Acurácia 0.5853\n",
            "Epoch 10 Batch 550 Perda 2.0813 Acurácia 0.5849\n",
            "Epoch 10 Batch 600 Perda 2.0810 Acurácia 0.5852\n",
            "Epoch 10 Batch 650 Perda 2.0844 Acurácia 0.5848\n",
            "Epoch 10 Batch 700 Perda 2.0852 Acurácia 0.5848\n",
            "Epoch 10 Batch 750 Perda 2.0870 Acurácia 0.5846\n",
            "Epoch 10 Batch 800 Perda 2.0874 Acurácia 0.5847\n",
            "Saving checkpoint for epoch 10 at ./checkpoints/train/ckpt-2\n",
            "Epoch 10 Perda 2.0863 Acurácia 0.5848\n",
            "Tempo para exercutar 1 epoch: 102.22 secs\n",
            "\n",
            "Epoch 11 Batch 0 Perda 1.8584 Acurácia 0.6252\n",
            "Epoch 11 Batch 50 Perda 1.9452 Acurácia 0.6016\n",
            "Epoch 11 Batch 100 Perda 1.9524 Acurácia 0.6011\n",
            "Epoch 11 Batch 150 Perda 1.9493 Acurácia 0.6025\n",
            "Epoch 11 Batch 200 Perda 1.9556 Acurácia 0.6019\n",
            "Epoch 11 Batch 250 Perda 1.9563 Acurácia 0.6015\n",
            "Epoch 11 Batch 300 Perda 1.9563 Acurácia 0.6019\n",
            "Epoch 11 Batch 350 Perda 1.9606 Acurácia 0.6014\n",
            "Epoch 11 Batch 400 Perda 1.9644 Acurácia 0.6009\n",
            "Epoch 11 Batch 450 Perda 1.9661 Acurácia 0.6007\n",
            "Epoch 11 Batch 500 Perda 1.9645 Acurácia 0.6011\n",
            "Epoch 11 Batch 550 Perda 1.9686 Acurácia 0.6005\n",
            "Epoch 11 Batch 600 Perda 1.9722 Acurácia 0.6002\n",
            "Epoch 11 Batch 650 Perda 1.9743 Acurácia 0.6000\n",
            "Epoch 11 Batch 700 Perda 1.9750 Acurácia 0.6001\n",
            "Epoch 11 Batch 750 Perda 1.9751 Acurácia 0.6001\n",
            "Epoch 11 Batch 800 Perda 1.9773 Acurácia 0.5999\n",
            "Epoch 11 Perda 1.9768 Acurácia 0.6001\n",
            "Tempo para exercutar 1 epoch: 102.10 secs\n",
            "\n",
            "Epoch 12 Batch 0 Perda 1.7311 Acurácia 0.6365\n",
            "Epoch 12 Batch 50 Perda 1.8637 Acurácia 0.6153\n",
            "Epoch 12 Batch 100 Perda 1.8542 Acurácia 0.6161\n",
            "Epoch 12 Batch 150 Perda 1.8627 Acurácia 0.6154\n",
            "Epoch 12 Batch 200 Perda 1.8586 Acurácia 0.6161\n",
            "Epoch 12 Batch 250 Perda 1.8597 Acurácia 0.6160\n",
            "Epoch 12 Batch 300 Perda 1.8622 Acurácia 0.6157\n",
            "Epoch 12 Batch 350 Perda 1.8657 Acurácia 0.6155\n",
            "Epoch 12 Batch 400 Perda 1.8683 Acurácia 0.6153\n",
            "Epoch 12 Batch 450 Perda 1.8678 Acurácia 0.6155\n",
            "Epoch 12 Batch 500 Perda 1.8687 Acurácia 0.6156\n",
            "Epoch 12 Batch 550 Perda 1.8731 Acurácia 0.6150\n",
            "Epoch 12 Batch 600 Perda 1.8776 Acurácia 0.6144\n",
            "Epoch 12 Batch 650 Perda 1.8783 Acurácia 0.6143\n",
            "Epoch 12 Batch 700 Perda 1.8786 Acurácia 0.6143\n",
            "Epoch 12 Batch 750 Perda 1.8809 Acurácia 0.6140\n",
            "Epoch 12 Batch 800 Perda 1.8822 Acurácia 0.6138\n",
            "Epoch 12 Perda 1.8823 Acurácia 0.6139\n",
            "Tempo para exercutar 1 epoch: 101.63 secs\n",
            "\n",
            "Epoch 13 Batch 0 Perda 1.7636 Acurácia 0.6218\n",
            "Epoch 13 Batch 50 Perda 1.7528 Acurácia 0.6341\n",
            "Epoch 13 Batch 100 Perda 1.7641 Acurácia 0.6311\n",
            "Epoch 13 Batch 150 Perda 1.7716 Acurácia 0.6296\n",
            "Epoch 13 Batch 200 Perda 1.7731 Acurácia 0.6296\n",
            "Epoch 13 Batch 250 Perda 1.7708 Acurácia 0.6297\n",
            "Epoch 13 Batch 300 Perda 1.7745 Acurácia 0.6292\n",
            "Epoch 13 Batch 350 Perda 1.7776 Acurácia 0.6286\n",
            "Epoch 13 Batch 400 Perda 1.7784 Acurácia 0.6285\n",
            "Epoch 13 Batch 450 Perda 1.7828 Acurácia 0.6279\n",
            "Epoch 13 Batch 500 Perda 1.7872 Acurácia 0.6270\n",
            "Epoch 13 Batch 550 Perda 1.7893 Acurácia 0.6269\n",
            "Epoch 13 Batch 600 Perda 1.7952 Acurácia 0.6260\n",
            "Epoch 13 Batch 650 Perda 1.7963 Acurácia 0.6259\n",
            "Epoch 13 Batch 700 Perda 1.7992 Acurácia 0.6257\n",
            "Epoch 13 Batch 750 Perda 1.8013 Acurácia 0.6255\n",
            "Epoch 13 Batch 800 Perda 1.8035 Acurácia 0.6254\n",
            "Epoch 13 Perda 1.8046 Acurácia 0.6253\n",
            "Tempo para exercutar 1 epoch: 101.54 secs\n",
            "\n",
            "Epoch 14 Batch 0 Perda 1.5288 Acurácia 0.6760\n",
            "Epoch 14 Batch 50 Perda 1.6995 Acurácia 0.6419\n",
            "Epoch 14 Batch 100 Perda 1.6893 Acurácia 0.6419\n",
            "Epoch 14 Batch 150 Perda 1.6924 Acurácia 0.6417\n",
            "Epoch 14 Batch 200 Perda 1.7113 Acurácia 0.6387\n",
            "Epoch 14 Batch 250 Perda 1.7083 Acurácia 0.6392\n",
            "Epoch 14 Batch 300 Perda 1.7122 Acurácia 0.6388\n",
            "Epoch 14 Batch 350 Perda 1.7153 Acurácia 0.6382\n",
            "Epoch 14 Batch 400 Perda 1.7168 Acurácia 0.6381\n",
            "Epoch 14 Batch 450 Perda 1.7167 Acurácia 0.6382\n",
            "Epoch 14 Batch 500 Perda 1.7203 Acurácia 0.6376\n",
            "Epoch 14 Batch 550 Perda 1.7215 Acurácia 0.6375\n",
            "Epoch 14 Batch 600 Perda 1.7249 Acurácia 0.6371\n",
            "Epoch 14 Batch 650 Perda 1.7267 Acurácia 0.6368\n",
            "Epoch 14 Batch 700 Perda 1.7285 Acurácia 0.6366\n",
            "Epoch 14 Batch 750 Perda 1.7303 Acurácia 0.6365\n",
            "Epoch 14 Batch 800 Perda 1.7341 Acurácia 0.6359\n",
            "Epoch 14 Perda 1.7343 Acurácia 0.6358\n",
            "Tempo para exercutar 1 epoch: 102.98 secs\n",
            "\n",
            "Epoch 15 Batch 0 Perda 1.6085 Acurácia 0.6533\n",
            "Epoch 15 Batch 50 Perda 1.6296 Acurácia 0.6510\n",
            "Epoch 15 Batch 100 Perda 1.6301 Acurácia 0.6507\n",
            "Epoch 15 Batch 150 Perda 1.6302 Acurácia 0.6504\n",
            "Epoch 15 Batch 200 Perda 1.6410 Acurácia 0.6490\n",
            "Epoch 15 Batch 250 Perda 1.6459 Acurácia 0.6486\n",
            "Epoch 15 Batch 300 Perda 1.6468 Acurácia 0.6484\n",
            "Epoch 15 Batch 350 Perda 1.6498 Acurácia 0.6482\n",
            "Epoch 15 Batch 400 Perda 1.6528 Acurácia 0.6478\n",
            "Epoch 15 Batch 450 Perda 1.6525 Acurácia 0.6480\n",
            "Epoch 15 Batch 500 Perda 1.6532 Acurácia 0.6480\n",
            "Epoch 15 Batch 550 Perda 1.6558 Acurácia 0.6475\n",
            "Epoch 15 Batch 600 Perda 1.6583 Acurácia 0.6470\n",
            "Epoch 15 Batch 650 Perda 1.6621 Acurácia 0.6465\n",
            "Epoch 15 Batch 700 Perda 1.6656 Acurácia 0.6460\n",
            "Epoch 15 Batch 750 Perda 1.6684 Acurácia 0.6457\n",
            "Epoch 15 Batch 800 Perda 1.6733 Acurácia 0.6451\n",
            "Saving checkpoint for epoch 15 at ./checkpoints/train/ckpt-3\n",
            "Epoch 15 Perda 1.6739 Acurácia 0.6450\n",
            "Tempo para exercutar 1 epoch: 102.81 secs\n",
            "\n",
            "Epoch 16 Batch 0 Perda 1.8492 Acurácia 0.6055\n",
            "Epoch 16 Batch 50 Perda 1.5737 Acurácia 0.6611\n",
            "Epoch 16 Batch 100 Perda 1.5767 Acurácia 0.6603\n",
            "Epoch 16 Batch 150 Perda 1.5847 Acurácia 0.6587\n",
            "Epoch 16 Batch 200 Perda 1.5948 Acurácia 0.6572\n",
            "Epoch 16 Batch 250 Perda 1.5942 Acurácia 0.6574\n",
            "Epoch 16 Batch 300 Perda 1.5955 Acurácia 0.6571\n",
            "Epoch 16 Batch 350 Perda 1.5953 Acurácia 0.6571\n",
            "Epoch 16 Batch 400 Perda 1.5973 Acurácia 0.6568\n",
            "Epoch 16 Batch 450 Perda 1.5991 Acurácia 0.6566\n",
            "Epoch 16 Batch 500 Perda 1.5975 Acurácia 0.6568\n",
            "Epoch 16 Batch 550 Perda 1.6004 Acurácia 0.6562\n",
            "Epoch 16 Batch 600 Perda 1.6046 Acurácia 0.6553\n",
            "Epoch 16 Batch 650 Perda 1.6078 Acurácia 0.6550\n",
            "Epoch 16 Batch 700 Perda 1.6115 Acurácia 0.6544\n",
            "Epoch 16 Batch 750 Perda 1.6162 Acurácia 0.6537\n",
            "Epoch 16 Batch 800 Perda 1.6190 Acurácia 0.6534\n",
            "Epoch 16 Perda 1.6189 Acurácia 0.6534\n",
            "Tempo para exercutar 1 epoch: 101.59 secs\n",
            "\n",
            "Epoch 17 Batch 0 Perda 1.4834 Acurácia 0.6752\n",
            "Epoch 17 Batch 50 Perda 1.5207 Acurácia 0.6695\n",
            "Epoch 17 Batch 100 Perda 1.5139 Acurácia 0.6699\n",
            "Epoch 17 Batch 150 Perda 1.5164 Acurácia 0.6696\n",
            "Epoch 17 Batch 200 Perda 1.5290 Acurácia 0.6678\n",
            "Epoch 17 Batch 250 Perda 1.5327 Acurácia 0.6671\n",
            "Epoch 17 Batch 300 Perda 1.5381 Acurácia 0.6662\n",
            "Epoch 17 Batch 350 Perda 1.5445 Acurácia 0.6651\n",
            "Epoch 17 Batch 400 Perda 1.5500 Acurácia 0.6638\n",
            "Epoch 17 Batch 450 Perda 1.5537 Acurácia 0.6633\n",
            "Epoch 17 Batch 500 Perda 1.5552 Acurácia 0.6632\n",
            "Epoch 17 Batch 550 Perda 1.5576 Acurácia 0.6626\n",
            "Epoch 17 Batch 600 Perda 1.5599 Acurácia 0.6624\n",
            "Epoch 17 Batch 650 Perda 1.5625 Acurácia 0.6619\n",
            "Epoch 17 Batch 700 Perda 1.5648 Acurácia 0.6616\n",
            "Epoch 17 Batch 750 Perda 1.5674 Acurácia 0.6610\n",
            "Epoch 17 Batch 800 Perda 1.5691 Acurácia 0.6609\n",
            "Epoch 17 Perda 1.5697 Acurácia 0.6608\n",
            "Tempo para exercutar 1 epoch: 101.83 secs\n",
            "\n",
            "Epoch 18 Batch 0 Perda 1.5527 Acurácia 0.6499\n",
            "Epoch 18 Batch 50 Perda 1.4954 Acurácia 0.6717\n",
            "Epoch 18 Batch 100 Perda 1.4864 Acurácia 0.6735\n",
            "Epoch 18 Batch 150 Perda 1.4908 Acurácia 0.6731\n",
            "Epoch 18 Batch 200 Perda 1.4929 Acurácia 0.6730\n",
            "Epoch 18 Batch 250 Perda 1.4955 Acurácia 0.6730\n",
            "Epoch 18 Batch 300 Perda 1.4982 Acurácia 0.6728\n",
            "Epoch 18 Batch 350 Perda 1.5023 Acurácia 0.6721\n",
            "Epoch 18 Batch 400 Perda 1.5069 Acurácia 0.6713\n",
            "Epoch 18 Batch 450 Perda 1.5065 Acurácia 0.6712\n",
            "Epoch 18 Batch 500 Perda 1.5102 Acurácia 0.6704\n",
            "Epoch 18 Batch 550 Perda 1.5146 Acurácia 0.6696\n",
            "Epoch 18 Batch 600 Perda 1.5144 Acurácia 0.6695\n",
            "Epoch 18 Batch 650 Perda 1.5169 Acurácia 0.6691\n",
            "Epoch 18 Batch 700 Perda 1.5225 Acurácia 0.6682\n",
            "Epoch 18 Batch 750 Perda 1.5260 Acurácia 0.6678\n",
            "Epoch 18 Batch 800 Perda 1.5273 Acurácia 0.6676\n",
            "Epoch 18 Perda 1.5273 Acurácia 0.6676\n",
            "Tempo para exercutar 1 epoch: 101.44 secs\n",
            "\n",
            "Epoch 19 Batch 0 Perda 1.3771 Acurácia 0.6821\n",
            "Epoch 19 Batch 50 Perda 1.4282 Acurácia 0.6848\n",
            "Epoch 19 Batch 100 Perda 1.4397 Acurácia 0.6824\n",
            "Epoch 19 Batch 150 Perda 1.4422 Acurácia 0.6815\n",
            "Epoch 19 Batch 200 Perda 1.4520 Acurácia 0.6793\n",
            "Epoch 19 Batch 250 Perda 1.4544 Acurácia 0.6788\n",
            "Epoch 19 Batch 300 Perda 1.4586 Acurácia 0.6779\n",
            "Epoch 19 Batch 350 Perda 1.4622 Acurácia 0.6775\n",
            "Epoch 19 Batch 400 Perda 1.4642 Acurácia 0.6774\n",
            "Epoch 19 Batch 450 Perda 1.4635 Acurácia 0.6776\n",
            "Epoch 19 Batch 500 Perda 1.4668 Acurácia 0.6772\n",
            "Epoch 19 Batch 550 Perda 1.4694 Acurácia 0.6768\n",
            "Epoch 19 Batch 600 Perda 1.4717 Acurácia 0.6764\n",
            "Epoch 19 Batch 650 Perda 1.4764 Acurácia 0.6756\n",
            "Epoch 19 Batch 700 Perda 1.4795 Acurácia 0.6751\n",
            "Epoch 19 Batch 750 Perda 1.4823 Acurácia 0.6747\n",
            "Epoch 19 Batch 800 Perda 1.4845 Acurácia 0.6744\n",
            "Epoch 19 Perda 1.4852 Acurácia 0.6743\n",
            "Tempo para exercutar 1 epoch: 101.63 secs\n",
            "\n",
            "Epoch 20 Batch 0 Perda 1.3684 Acurácia 0.7082\n",
            "Epoch 20 Batch 50 Perda 1.3856 Acurácia 0.6918\n",
            "Epoch 20 Batch 100 Perda 1.4003 Acurácia 0.6889\n",
            "Epoch 20 Batch 150 Perda 1.3970 Acurácia 0.6888\n",
            "Epoch 20 Batch 200 Perda 1.4065 Acurácia 0.6868\n",
            "Epoch 20 Batch 250 Perda 1.4086 Acurácia 0.6867\n",
            "Epoch 20 Batch 300 Perda 1.4211 Acurácia 0.6845\n",
            "Epoch 20 Batch 350 Perda 1.4269 Acurácia 0.6834\n",
            "Epoch 20 Batch 400 Perda 1.4279 Acurácia 0.6832\n",
            "Epoch 20 Batch 450 Perda 1.4308 Acurácia 0.6825\n",
            "Epoch 20 Batch 500 Perda 1.4346 Acurácia 0.6821\n",
            "Epoch 20 Batch 550 Perda 1.4373 Acurácia 0.6817\n",
            "Epoch 20 Batch 600 Perda 1.4373 Acurácia 0.6818\n",
            "Epoch 20 Batch 650 Perda 1.4409 Acurácia 0.6812\n",
            "Epoch 20 Batch 700 Perda 1.4420 Acurácia 0.6812\n",
            "Epoch 20 Batch 750 Perda 1.4451 Acurácia 0.6808\n",
            "Epoch 20 Batch 800 Perda 1.4490 Acurácia 0.6803\n",
            "Saving checkpoint for epoch 20 at ./checkpoints/train/ckpt-4\n",
            "Epoch 20 Perda 1.4498 Acurácia 0.6801\n",
            "Tempo para exercutar 1 epoch: 102.17 secs\n",
            "\n"
          ],
          "name": "stdout"
        }
      ]
    },
    {
      "cell_type": "markdown",
      "metadata": {
        "id": "cWAo7WaV14fu"
      },
      "source": [
        "## Avaliação do Modelo"
      ]
    },
    {
      "cell_type": "code",
      "metadata": {
        "id": "DjDElpO31NWZ"
      },
      "source": [
        "def evaluate(frase, max_length=40):\n",
        "  # a frase do inp é português, portanto, adicionando o token de início e fim\n",
        "  frase = tf.convert_to_tensor([frase])\n",
        "  frase = tokenizers.pt.tokenize(frase).to_tensor()\n",
        "\n",
        "  encoder_input = frase\n",
        "\n",
        "  # como o alvo é o inglês, a primeira palavra para o transformador deve ser o token de início em inglês.\n",
        "\n",
        "  start, end = tokenizers.en.tokenize([''])[0]\n",
        "  output = tf.convert_to_tensor([start])\n",
        "  output = tf.expand_dims(output, 0)\n",
        "\n",
        "  for i in range(max_length):\n",
        "    enc_padding_mask, combined_mask, dec_padding_mask = create_masks(\n",
        "        encoder_input, output)\n",
        "\n",
        "    # predictions.shape == (batch_size, seq_len, vocab_size)\n",
        "    predictions, attention_weights = transformer(encoder_input,\n",
        "                                                 output,\n",
        "                                                 False,\n",
        "                                                 enc_padding_mask,\n",
        "                                                 combined_mask,\n",
        "                                                 dec_padding_mask)\n",
        "\n",
        "    # seleciona a última palavra da dimensão seq_len\n",
        "    predictions = predictions[:, -1:, :]  # (batch_size, 1, vocab_size)\n",
        "\n",
        "    predicted_id = tf.argmax(predictions, axis=-1)\n",
        "\n",
        "    # concatene o id previsto para a saída que é fornecida ao decodificador como sua entrada.\n",
        "    output = tf.concat([output, predicted_id], axis=-1)\n",
        "\n",
        "    # retornar o resultado do id previsto é igual ao token final\n",
        "    if predicted_id == end:\n",
        "      break\n",
        "\n",
        "  # output.shape (1, tokens)\n",
        "  text = tokenizers.en.detokenize(output)[0]  # shape: ()\n",
        "\n",
        "  tokens = tokenizers.en.lookup(output)[0]\n",
        "\n",
        "  return text, tokens, attention_weights"
      ],
      "execution_count": null,
      "outputs": []
    },
    {
      "cell_type": "code",
      "metadata": {
        "id": "cmHTeWOV2Bq-"
      },
      "source": [
        "def print_translation(sentence, tokens, ground_truth):\n",
        "  print(f'{\"Entrada:\":15s}: {sentence}')\n",
        "  print(f'{\"Predição\":15s}: {tokens.numpy().decode(\"utf-8\")}')\n",
        "  print(f'{\"Verdade Fundamental\":15s}: {ground_truth}')"
      ],
      "execution_count": null,
      "outputs": []
    },
    {
      "cell_type": "code",
      "metadata": {
        "colab": {
          "base_uri": "https://localhost:8080/"
        },
        "id": "shZFSilm2ONd",
        "outputId": "f42e96b6-4ce0-42d3-825b-dd2376dd8ab4"
      },
      "source": [
        "frase = \"este é um problema que temos que resolver.\"\n",
        "ground_truth = \"this is a problem we have to solve .\"\n",
        "\n",
        "translated_text, translated_tokens, attention_weights = evaluate(frase)\n",
        "print_translation(frase, translated_text, ground_truth)"
      ],
      "execution_count": null,
      "outputs": [
        {
          "output_type": "stream",
          "text": [
            "Entrada:       : este é um problema que temos que resolver.\n",
            "Predição       : this is a problem we have to solve .\n",
            "Verdade Fundamental: this is a problem we have to solve .\n"
          ],
          "name": "stdout"
        }
      ]
    },
    {
      "cell_type": "code",
      "metadata": {
        "colab": {
          "base_uri": "https://localhost:8080/"
        },
        "id": "x7klAElr_6o4",
        "outputId": "49f72aaa-831e-47f3-a12f-05f27b63c2ff"
      },
      "source": [
        "sentence = \"Estudar ciência de dados é muito excitante.\"\n",
        "ground_truth = \"Studying data science is very exciting.\"\n",
        "\n",
        "translated_text, translated_tokens, attention_weights = evaluate(sentence)\n",
        "print_translation(sentence, translated_text, ground_truth)"
      ],
      "execution_count": null,
      "outputs": [
        {
          "output_type": "stream",
          "text": [
            "Entrada:       : Estudar ciência de dados é muito excitante.\n",
            "Predição       : study data science is very exciting .\n",
            "Verdade Fundamental: Studying data science is very exciting.\n"
          ],
          "name": "stdout"
        }
      ]
    },
    {
      "cell_type": "code",
      "metadata": {
        "colab": {
          "base_uri": "https://localhost:8080/"
        },
        "id": "K7wO65e8AazR",
        "outputId": "1a07a069-11df-4395-e282-ec2360b4e16c"
      },
      "source": [
        "sentence = \"Esse problema utilizando transformer para traduções foi díficil mas é ótimo ver o resultado final. .\"\n",
        "ground_truth = \"This problem using transformer for translations was difficult but it is great to see the final result.\"\n",
        "\n",
        "translated_text, translated_tokens, attention_weights = evaluate(sentence)\n",
        "print_translation(sentence, translated_text, ground_truth)"
      ],
      "execution_count": null,
      "outputs": [
        {
          "output_type": "stream",
          "text": [
            "Entrada:       : Esse problema utilizando transformer para traduções foi díficil mas é ótimo ver o resultado final. .\n",
            "Predição       : that problem with redesvader to tradradradment was hard , but it ' s great to see the end of the end .\n",
            "Verdade Fundamental: This problem using transformer for translations was difficult but it is great to see the final result.\n"
          ],
          "name": "stdout"
        }
      ]
    },
    {
      "cell_type": "markdown",
      "metadata": {
        "id": "IuqZj8AvBkQt"
      },
      "source": [
        "Podemos ver que nessa última frase o tradutor não foi tão bem. O que podemos fazer é adcionar parcelas de atenção!\n",
        "\n",
        "## Parcelas de atenção \n",
        "A função de evaluate também retorna um dicionário de mapas de atenção que podemos usar para visualizar o funcionamento interno do modelo:\n"
      ]
    },
    {
      "cell_type": "code",
      "metadata": {
        "id": "no_F_ye3BPat"
      },
      "source": [
        "def plot_attention_head(in_tokens, translated_tokens, attention):\n",
        "  # The plot is of the attention when a token was generated.\n",
        "  # The model didn't generate `<START>` in the output. Skip it.\n",
        "  translated_tokens = translated_tokens[1:]\n",
        "\n",
        "  ax = plt.gca()\n",
        "  ax.matshow(attention)\n",
        "  ax.set_xticks(range(len(in_tokens)))\n",
        "  ax.set_yticks(range(len(translated_tokens)))\n",
        "\n",
        "  labels = [label.decode('utf-8') for label in in_tokens.numpy()]\n",
        "  ax.set_xticklabels(\n",
        "      labels, rotation=90)\n",
        "\n",
        "  labels = [label.decode('utf-8') for label in translated_tokens.numpy()]\n",
        "  ax.set_yticklabels(labels)"
      ],
      "execution_count": null,
      "outputs": []
    },
    {
      "cell_type": "code",
      "metadata": {
        "colab": {
          "base_uri": "https://localhost:8080/"
        },
        "id": "WGHMkTp4CDsH",
        "outputId": "c701599c-82a7-4ec4-c3d9-41ede78da502"
      },
      "source": [
        "head = 0\n",
        "# shape: (batch=1, num_heads, seq_len_q, seq_len_k)\n",
        "attention_heads = tf.squeeze(\n",
        "  attention_weights['decoder_layer4_block2'], 0)\n",
        "attention = attention_heads[head]\n",
        "attention.shape"
      ],
      "execution_count": null,
      "outputs": [
        {
          "output_type": "execute_result",
          "data": {
            "text/plain": [
              "TensorShape([33, 26])"
            ]
          },
          "metadata": {
            "tags": []
          },
          "execution_count": 62
        }
      ]
    },
    {
      "cell_type": "code",
      "metadata": {
        "colab": {
          "base_uri": "https://localhost:8080/"
        },
        "id": "uhYqSCYKCFhR",
        "outputId": "1cda27fa-f243-4e00-9824-65e8282bba41"
      },
      "source": [
        "in_tokens = tf.convert_to_tensor([sentence])\n",
        "in_tokens = tokenizers.pt.tokenize(in_tokens).to_tensor()\n",
        "in_tokens = tokenizers.pt.lookup(in_tokens)[0]\n",
        "in_tokens"
      ],
      "execution_count": null,
      "outputs": [
        {
          "output_type": "execute_result",
          "data": {
            "text/plain": [
              "<tf.Tensor: shape=(26,), dtype=string, numpy=\n",
              "array([b'[START]', b'esse', b'problema', b'utilizando', b't', b'##ra',\n",
              "       b'##ns', b'##forme', b'##r', b'para', b't', b'##ra', b'##d',\n",
              "       b'##ucoes', b'foi', b'dificil', b'mas', b'e', b'otimo', b'ver',\n",
              "       b'o', b'resultado', b'final', b'.', b'.', b'[END]'], dtype=object)>"
            ]
          },
          "metadata": {
            "tags": []
          },
          "execution_count": 63
        }
      ]
    },
    {
      "cell_type": "code",
      "metadata": {
        "colab": {
          "base_uri": "https://localhost:8080/"
        },
        "id": "xgRmtDaJCHgO",
        "outputId": "e2fd2d35-5461-44c0-8079-4c4b81f1800d"
      },
      "source": [
        "translated_tokens"
      ],
      "execution_count": null,
      "outputs": [
        {
          "output_type": "execute_result",
          "data": {
            "text/plain": [
              "<tf.Tensor: shape=(34,), dtype=string, numpy=\n",
              "array([b'[START]', b'that', b'problem', b'with', b'red', b'##es', b'##va',\n",
              "       b'##der', b'to', b't', b'##ra', b'##d', b'##ra', b'##d', b'##ra',\n",
              "       b'##d', b'##ment', b'was', b'hard', b',', b'but', b'it', b\"'\",\n",
              "       b's', b'great', b'to', b'see', b'the', b'end', b'of', b'the',\n",
              "       b'end', b'.', b'[END]'], dtype=object)>"
            ]
          },
          "metadata": {
            "tags": []
          },
          "execution_count": 64
        }
      ]
    },
    {
      "cell_type": "code",
      "metadata": {
        "colab": {
          "base_uri": "https://localhost:8080/",
          "height": 307
        },
        "id": "yru0XnqgCKNo",
        "outputId": "7c45c8ea-c385-4a00-a128-bb336f2d2494"
      },
      "source": [
        "plot_attention_head(in_tokens, translated_tokens, attention)"
      ],
      "execution_count": null,
      "outputs": [
        {
          "output_type": "display_data",
          "data": {
            "image/png": "[encoded data removed]",
            "text/plain": [
              "<Figure size 432x288 with 1 Axes>"
            ]
          },
          "metadata": {
            "tags": [],
            "needs_background": "light"
          }
        }
      ]
    },
    {
      "cell_type": "code",
      "metadata": {
        "id": "k2mR-7ZKCf3o"
      },
      "source": [
        "def plot_attention_weights(sentence, translated_tokens, attention_heads):\n",
        "  in_tokens = tf.convert_to_tensor([sentence])\n",
        "  in_tokens = tokenizers.pt.tokenize(in_tokens).to_tensor()\n",
        "  in_tokens = tokenizers.pt.lookup(in_tokens)[0]\n",
        "  in_tokens\n",
        "\n",
        "  fig = plt.figure(figsize=(16, 8))\n",
        "\n",
        "  for h, head in enumerate(attention_heads):\n",
        "    ax = fig.add_subplot(2, 4, h+1)\n",
        "\n",
        "    plot_attention_head(in_tokens, translated_tokens, head)\n",
        "\n",
        "    ax.set_xlabel(f'Head {h+1}')\n",
        "\n",
        "  plt.tight_layout()\n",
        "  plt.show()"
      ],
      "execution_count": null,
      "outputs": []
    },
    {
      "cell_type": "code",
      "metadata": {
        "colab": {
          "base_uri": "https://localhost:8080/",
          "height": 524
        },
        "id": "rbWx-3AQCjPt",
        "outputId": "fea98d6e-42f4-48b4-808e-34b5a98ca07c"
      },
      "source": [
        "plot_attention_weights(sentence, translated_tokens,\n",
        "                       attention_weights['decoder_layer4_block2'][0])"
      ],
      "execution_count": null,
      "outputs": [
        {
          "output_type": "display_data",
          "data": {
            "image/png": "[encoded data removed]",
            "text/plain": [
              "<Figure size 1152x576 with 8 Axes>"
            ]
          },
          "metadata": {
            "tags": [],
            "needs_background": "light"
          }
        }
      ]
    },
    {
      "cell_type": "code",
      "metadata": {
        "colab": {
          "base_uri": "https://localhost:8080/",
          "height": 633
        },
        "id": "b-mKsTXbCNLk",
        "outputId": "e0535b31-f1fe-4549-964d-af2642c69919"
      },
      "source": [
        "frase = \"Eu li sobre triceratops na enciclopédia.\"\n",
        "ground_truth = \"I read about triceratops in the encyclopedia.\"\n",
        "\n",
        "translated_text, translated_tokens, attention_weights = evaluate(frase)\n",
        "print_translation(frase, translated_text, ground_truth)\n",
        "\n",
        "plot_attention_weights(frase, translated_tokens,\n",
        "                       attention_weights['decoder_layer4_block2'][0])"
      ],
      "execution_count": null,
      "outputs": [
        {
          "output_type": "stream",
          "text": [
            "Entrada:       : Eu li sobre triceratops na enciclopédia.\n",
            "Predição       : i read about twalcas on encyclopedia .\n",
            "Verdade Fundamental: I read about triceratops in the encyclopedia.\n"
          ],
          "name": "stdout"
        },
        {
          "output_type": "display_data",
          "data": {
            "image/png": "[encoded data removed]",
            "text/plain": [
              "<Figure size 1152x576 with 8 Axes>"
            ]
          },
          "metadata": {
            "tags": [],
            "needs_background": "light"
          }
        }
      ]
    },
    {
      "cell_type": "markdown",
      "metadata": {
        "id": "qK4KyibRC-u4"
      },
      "source": [
        "## Conclusão\n",
        "\n",
        "Nesse notebook aprendemos sobre condificação posicional, atenção de várias cabeças, a importância do mascaramento e como criar um transformador. "
      ]
    },
    {
      "cell_type": "code",
      "metadata": {
        "colab": {
          "base_uri": "https://localhost:8080/"
        },
        "id": "Ov9YT1u4Cb94",
        "outputId": "4b4d85fc-2061-43c1-d39b-1b9241f936cf"
      },
      "source": [
        "sentence = \"Muito obrigado pelo desafio!\"\n",
        "ground_truth = \"Thank you very much for the challenge!\"\n",
        "\n",
        "translated_text, translated_tokens, attention_weights = evaluate(sentence)\n",
        "print_translation(sentence, translated_text, ground_truth)"
      ],
      "execution_count": null,
      "outputs": [
        {
          "output_type": "stream",
          "text": [
            "Entrada:       : Muito obrigado pelo desafio!\n",
            "Predição       : thank you so much for the challenge .\n",
            "Verdade Fundamental: Thank you very much for the challenge!\n"
          ],
          "name": "stdout"
        }
      ]
    },
    {
      "cell_type": "code",
      "metadata": {
        "colab": {
          "base_uri": "https://localhost:8080/"
        },
        "id": "0Vsb4-sSDd2E",
        "outputId": "8a4c08a6-0c76-4576-eec4-9c78ed58428d"
      },
      "source": [
        "sentence = \"Hora de pesquisar e quebrar a cabeça com o próximo desafio.\"\n",
        "ground_truth = \"Time to research and puzzle over the next challenge.\"\n",
        "\n",
        "translated_text, translated_tokens, attention_weights = evaluate(sentence)\n",
        "print_translation(sentence, translated_text, ground_truth)"
      ],
      "execution_count": null,
      "outputs": [
        {
          "output_type": "stream",
          "text": [
            "Entrada:       : Hora de pesquisar e quebrar a cabeça com o próximo desafio.\n",
            "Predição       : time to do is break the head with the next challenge .\n",
            "Verdade Fundamental: Time to research and puzzle over the next challenge.\n"
          ],
          "name": "stdout"
        }
      ]
    }
  ]
}